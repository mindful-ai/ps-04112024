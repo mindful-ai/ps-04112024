{
 "cells": [
  {
   "cell_type": "markdown",
   "id": "07777fb8-3396-4ecb-8bb1-0d918a547ae1",
   "metadata": {},
   "source": [
    "### Why Numpy?"
   ]
  },
  {
   "cell_type": "code",
   "execution_count": null,
   "id": "febd4391-9b52-4a70-a3d1-9e7b31d83c1f",
   "metadata": {},
   "outputs": [],
   "source": [
    "# importing numpy package\n",
    "import numpy as np\n",
    "  \n",
    "# importing system module\n",
    "import sys\n",
    "  \n",
    "# declaring a list of 1000 elements \n",
    "S= range(1000)\n",
    "  \n",
    "# printing size of each element of the list\n",
    "print(\"[Python] Size of each element of list in bytes: \",sys.getsizeof(S))\n",
    "  \n",
    "# printing size of the whole list\n",
    "print(\"[Python] Size of the whole list in bytes: \",sys.getsizeof(S)*len(S))\n",
    "  \n",
    "# declaring a Numpy array of 1000 elements \n",
    "D= np.arange(1000)\n",
    "  \n",
    "# printing size of each element of the Numpy array\n",
    "print(\"[NumPy] Size of each element of the Numpy array in bytes: \",D.itemsize)\n",
    "  \n",
    "# printing size of the whole Numpy array\n",
    "print(\"[NumPy] Size of the whole Numpy array in bytes: \",D.size*D.itemsize)"
   ]
  },
  {
   "cell_type": "code",
   "execution_count": null,
   "id": "a224f659-e5e4-4833-b65a-7e6bf67660e3",
   "metadata": {},
   "outputs": [],
   "source": [
    "# importing required packages\n",
    "import numpy\n",
    "import time\n",
    "   \n",
    "# size of arrays and lists\n",
    "size = 1000000  \n",
    "   \n",
    "# declaring lists\n",
    "list1 = range(size)\n",
    "list2 = range(size)\n",
    "   \n",
    "# declaring arrays\n",
    "array1 = numpy.arange(size)  \n",
    "array2 = numpy.arange(size)\n",
    "   \n",
    "# capturing time before the multiplication of Python lists\n",
    "initialTime = time.time()\n",
    "  \n",
    "# multiplying  elements of both the lists and stored in another list\n",
    "resultantList = [(a * b) for a, b in zip(list1, list2)]\n",
    "   \n",
    "# calculating execution time\n",
    "print(\"Time taken by Lists to perform multiplication:\", \n",
    "      (time.time() - initialTime),\n",
    "      \"seconds\")\n",
    "   \n",
    "# capturing time before the multiplication of Numpy arrays\n",
    "initialTime = time.time()\n",
    "  \n",
    "# multiplying  elements of both the Numpy arrays and stored in another Numpy array \n",
    "resultantArray = array1 * array2\n",
    "   \n",
    "# calculating execution time \n",
    "print(\"Time taken by NumPy Arrays to perform multiplication:\",\n",
    "      (time.time() - initialTime),\n",
    "      \"seconds\")"
   ]
  },
  {
   "cell_type": "markdown",
   "id": "fc77b666-8159-4808-b1e4-99bbbab3f076",
   "metadata": {},
   "source": [
    "http://jakevdp.github.io/images/array_vs_list.png"
   ]
  },
  {
   "cell_type": "markdown",
   "id": "de05c76d-90dd-409a-b8f9-e136e4c69165",
   "metadata": {},
   "source": [
    "### Numpy Array"
   ]
  },
  {
   "cell_type": "code",
   "execution_count": null,
   "id": "dd67b5b1-ec0f-4bfb-9b7c-7305271c1bbc",
   "metadata": {},
   "outputs": [],
   "source": [
    "import numpy as np"
   ]
  },
  {
   "cell_type": "code",
   "execution_count": null,
   "id": "6fef13a1-3d9e-4600-bdab-399525f1eae5",
   "metadata": {},
   "outputs": [],
   "source": [
    "a = np.array([1, 2, 3, 4, 5, 6])"
   ]
  },
  {
   "cell_type": "code",
   "execution_count": null,
   "id": "31fb6e83-d049-4376-905c-8a1acce7f9da",
   "metadata": {},
   "outputs": [],
   "source": [
    "type(a)"
   ]
  },
  {
   "cell_type": "code",
   "execution_count": null,
   "id": "6a5e930f-280a-4e0d-8e87-39c5d772cc54",
   "metadata": {},
   "outputs": [],
   "source": [
    "a[0]"
   ]
  },
  {
   "cell_type": "code",
   "execution_count": null,
   "id": "3022853c-d79a-4f10-b576-be9d5afe2c1c",
   "metadata": {},
   "outputs": [],
   "source": [
    "a[0] = 56"
   ]
  },
  {
   "cell_type": "code",
   "execution_count": null,
   "id": "198d2c41-4f2d-4675-b6b4-646390f181af",
   "metadata": {},
   "outputs": [],
   "source": [
    "a"
   ]
  },
  {
   "cell_type": "markdown",
   "id": "ad2f6ea9-7b5c-48f5-b731-1d36809f49af",
   "metadata": {},
   "source": [
    "##### Attributes"
   ]
  },
  {
   "cell_type": "code",
   "execution_count": null,
   "id": "6a26e2d3-673d-4a2c-8059-94c7021d52cc",
   "metadata": {},
   "outputs": [],
   "source": [
    "a.ndim"
   ]
  },
  {
   "cell_type": "code",
   "execution_count": null,
   "id": "9f93e14a-43d9-404c-a38c-33ed28e39c10",
   "metadata": {},
   "outputs": [],
   "source": [
    "b = np.array([[1, 2], [3, 4], [5, 6]])"
   ]
  },
  {
   "cell_type": "code",
   "execution_count": null,
   "id": "17ca444b-d097-422c-a8a1-3cd5d1cfdc0b",
   "metadata": {},
   "outputs": [],
   "source": [
    "b.ndim"
   ]
  },
  {
   "cell_type": "code",
   "execution_count": null,
   "id": "8c5e2eec-934d-4e53-9d9b-5321146873e5",
   "metadata": {},
   "outputs": [],
   "source": [
    "b.shape"
   ]
  },
  {
   "cell_type": "code",
   "execution_count": null,
   "id": "31ddbff8-5a80-493d-8fa5-7145998a2173",
   "metadata": {},
   "outputs": [],
   "source": [
    "b.size"
   ]
  },
  {
   "cell_type": "code",
   "execution_count": null,
   "id": "6c4692ab-0c89-4067-a122-780b097cf5c4",
   "metadata": {},
   "outputs": [],
   "source": [
    "a.dtype"
   ]
  },
  {
   "cell_type": "markdown",
   "id": "69981a45-2fd4-4cc1-909a-1ee0d753fdbb",
   "metadata": {},
   "source": [
    "#### Basic Arrays"
   ]
  },
  {
   "cell_type": "code",
   "execution_count": null,
   "id": "c8a2c844-94cd-468d-8b73-6ecdad16755f",
   "metadata": {},
   "outputs": [],
   "source": [
    "np.zeros(2)"
   ]
  },
  {
   "cell_type": "code",
   "execution_count": null,
   "id": "d788708d-38a3-4e2b-b5f0-6e6f11cd5824",
   "metadata": {},
   "outputs": [],
   "source": [
    "np.ones((2,3))"
   ]
  },
  {
   "cell_type": "code",
   "execution_count": null,
   "id": "a9e776df-86e7-46ba-a810-fd7bd51447ca",
   "metadata": {},
   "outputs": [],
   "source": [
    "np.empty(4)"
   ]
  },
  {
   "cell_type": "code",
   "execution_count": null,
   "id": "9f4f9864-85f0-450f-a731-85b89aa78a29",
   "metadata": {},
   "outputs": [],
   "source": [
    "np.arange(10)"
   ]
  },
  {
   "cell_type": "code",
   "execution_count": null,
   "id": "8cff93c3-7bc0-47e2-806c-6654cf5323e0",
   "metadata": {},
   "outputs": [],
   "source": [
    "np.linspace(0, 10, num=20)"
   ]
  },
  {
   "cell_type": "markdown",
   "id": "c51e7d0c-bbd5-4068-ab3a-169a87930703",
   "metadata": {},
   "source": [
    "#### Operations on the numpy array"
   ]
  },
  {
   "cell_type": "code",
   "execution_count": null,
   "id": "e45dec9f-4ea5-4f03-a603-024d5d6dfc3c",
   "metadata": {},
   "outputs": [],
   "source": [
    "s = np.array([3, 4, 5, 1, 7, 5, 9, 6])"
   ]
  },
  {
   "cell_type": "code",
   "execution_count": null,
   "id": "d23b9961-c56c-4d18-8a3e-9d8ba8ea7acf",
   "metadata": {},
   "outputs": [],
   "source": [
    "np.sort(s)"
   ]
  },
  {
   "cell_type": "code",
   "execution_count": null,
   "id": "6fac408f-e977-46e6-a19d-4038e6cf2d29",
   "metadata": {},
   "outputs": [],
   "source": [
    "s1 = np.array([10, 20, 30])"
   ]
  },
  {
   "cell_type": "code",
   "execution_count": null,
   "id": "d27be85f-6761-43ab-91ee-c73c9b198e08",
   "metadata": {},
   "outputs": [],
   "source": [
    "np.concatenate((s, s1))"
   ]
  },
  {
   "cell_type": "code",
   "execution_count": null,
   "id": "4582840c-c938-4388-a74b-08048a06f71c",
   "metadata": {},
   "outputs": [],
   "source": [
    "s"
   ]
  },
  {
   "cell_type": "code",
   "execution_count": null,
   "id": "6dec29af-0340-4373-874f-d6188ce426ac",
   "metadata": {},
   "outputs": [],
   "source": [
    "s.shape"
   ]
  },
  {
   "cell_type": "code",
   "execution_count": null,
   "id": "364d7714-84e4-4585-94c5-15679923a5de",
   "metadata": {},
   "outputs": [],
   "source": [
    "s.reshape(2, 4)"
   ]
  },
  {
   "cell_type": "markdown",
   "id": "bd218e4f-7200-4df1-aac0-257c7836ca34",
   "metadata": {},
   "source": [
    "#### Broadcasting"
   ]
  },
  {
   "cell_type": "code",
   "execution_count": null,
   "id": "d4f10055-9838-4731-ac42-adee13c13f9d",
   "metadata": {},
   "outputs": [],
   "source": [
    "s"
   ]
  },
  {
   "cell_type": "code",
   "execution_count": null,
   "id": "528e5639-2e19-440c-967a-c6d838c62372",
   "metadata": {},
   "outputs": [],
   "source": [
    "p = [10, 20, 30]\n",
    "p * 3"
   ]
  },
  {
   "cell_type": "code",
   "execution_count": null,
   "id": "bbb05d8e-71dc-4e95-8114-b8d751b78ec1",
   "metadata": {},
   "outputs": [],
   "source": [
    "s * 3"
   ]
  },
  {
   "cell_type": "code",
   "execution_count": null,
   "id": "8dbd5958-a28a-42b0-8311-f9a457501b55",
   "metadata": {},
   "outputs": [],
   "source": [
    "p * p"
   ]
  },
  {
   "cell_type": "code",
   "execution_count": null,
   "id": "ab656cb8-e862-497c-bb68-9dead7a4eb84",
   "metadata": {},
   "outputs": [],
   "source": [
    "s * s"
   ]
  },
  {
   "cell_type": "code",
   "execution_count": null,
   "id": "e873485f-8b21-440c-8387-690c47c0ec9e",
   "metadata": {},
   "outputs": [],
   "source": [
    "d = np.array([1, 2, 3])"
   ]
  },
  {
   "cell_type": "code",
   "execution_count": null,
   "id": "e76e1f64-81a8-45d9-80a5-183f21514767",
   "metadata": {},
   "outputs": [],
   "source": [
    "d * d"
   ]
  },
  {
   "cell_type": "code",
   "execution_count": null,
   "id": "23f68ad9-f937-40cb-a89b-cd6c32489c46",
   "metadata": {},
   "outputs": [],
   "source": [
    "s.min()"
   ]
  },
  {
   "cell_type": "code",
   "execution_count": null,
   "id": "a42b0d9a-5483-4037-8874-55f10375b0c8",
   "metadata": {},
   "outputs": [],
   "source": [
    "s.max()"
   ]
  },
  {
   "cell_type": "code",
   "execution_count": null,
   "id": "30029b33-ccfa-4f36-a33b-ad057bd88994",
   "metadata": {},
   "outputs": [],
   "source": [
    "np.unique(s)"
   ]
  },
  {
   "cell_type": "code",
   "execution_count": null,
   "id": "294d2d70-ad74-4196-97a7-a2f3bf251a04",
   "metadata": {},
   "outputs": [],
   "source": [
    "rng = np.random.default_rng()"
   ]
  },
  {
   "cell_type": "code",
   "execution_count": null,
   "id": "ea180af1-4c6b-4ee9-941b-df9e0a20f124",
   "metadata": {},
   "outputs": [],
   "source": [
    "rng.random() "
   ]
  },
  {
   "cell_type": "code",
   "execution_count": null,
   "id": "f37abd8c-3dee-40ef-9a33-ac23faff4790",
   "metadata": {},
   "outputs": [],
   "source": [
    "rng.standard_normal(30) "
   ]
  },
  {
   "cell_type": "code",
   "execution_count": null,
   "id": "bab14c13-20aa-45d8-b769-f9cba77be858",
   "metadata": {},
   "outputs": [],
   "source": [
    "rng.integers(low=0, high=100, size=10)"
   ]
  },
  {
   "cell_type": "code",
   "execution_count": null,
   "id": "699ae1c6-a37a-40fb-97b2-830955c981fa",
   "metadata": {},
   "outputs": [],
   "source": []
  }
 ],
 "metadata": {
  "kernelspec": {
   "display_name": "Python 3 (ipykernel)",
   "language": "python",
   "name": "python3"
  },
  "language_info": {
   "codemirror_mode": {
    "name": "ipython",
    "version": 3
   },
   "file_extension": ".py",
   "mimetype": "text/x-python",
   "name": "python",
   "nbconvert_exporter": "python",
   "pygments_lexer": "ipython3",
   "version": "3.11.7"
  }
 },
 "nbformat": 4,
 "nbformat_minor": 5
}
