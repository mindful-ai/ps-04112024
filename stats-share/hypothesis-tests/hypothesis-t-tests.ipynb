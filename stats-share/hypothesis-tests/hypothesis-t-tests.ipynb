{
 "cells": [
  {
   "cell_type": "markdown",
   "metadata": {},
   "source": []
  },
  {
   "cell_type": "code",
   "execution_count": 17,
   "metadata": {},
   "outputs": [],
   "source": [
    "import numpy as np\n",
    "import pandas as pd\n",
    "from scipy.stats import ttest_1samp, ttest_ind, ttest_rel\n",
    "\n",
    "# Load the heart disease dataset\n",
    "df = pd.read_csv(\"heart.csv\")\n"
   ]
  },
  {
   "cell_type": "markdown",
   "metadata": {
    "vscode": {
     "languageId": "plaintext"
    }
   },
   "source": [
    "### One-Sample t-test"
   ]
  },
  {
   "cell_type": "markdown",
   "metadata": {
    "vscode": {
     "languageId": "plaintext"
    }
   },
   "source": [
    "The one-sample t-test checks if the mean of a single sample is different from a known or hypothesized population mean. Here, we’ll test if the average cholesterol level (chol) in our sample is significantly different from a known population mean of 200 mg/dL."
   ]
  },
  {
   "cell_type": "code",
   "execution_count": 11,
   "metadata": {},
   "outputs": [
    {
     "name": "stdout",
     "output_type": "stream",
     "text": [
      "One-Sample t-test:\n",
      "Null Hypothesis: The mean cholesterol level of the sample is equal to 200 mg/dL.\n",
      "t-statistic = 15.697754943543861, p-value = 5.111676087498585e-41\n",
      "Result: Reject the null hypothesis - the sample mean cholesterol is significantly different from 200 mg/dL.\n",
      "\n"
     ]
    }
   ],
   "source": [
    "# One-sample t-test: Test if the mean cholesterol level is different from 200\n",
    "\n",
    "chol_sample = df['Chol']\n",
    "population_mean = 200\n",
    "\n",
    "t_statistic, p_value = ttest_1samp(chol_sample, population_mean)\n",
    "print(\"One-Sample t-test:\")\n",
    "print(\"Null Hypothesis: The mean cholesterol level of the sample is equal to 200 mg/dL.\")\n",
    "print(f\"t-statistic = {t_statistic}, p-value = {p_value}\")\n",
    "if p_value < 0.05:\n",
    "    print(\"Result: Reject the null hypothesis - the sample mean cholesterol is significantly different from 200 mg/dL.\\n\")\n",
    "else:\n",
    "    print(\"Result: Fail to reject the null hypothesis - the sample mean cholesterol is not significantly different from 200 mg/dL.\\n\")\n"
   ]
  },
  {
   "cell_type": "markdown",
   "metadata": {},
   "source": [
    "### Two-Sample t-test"
   ]
  },
  {
   "cell_type": "markdown",
   "metadata": {
    "vscode": {
     "languageId": "plaintext"
    }
   },
   "source": [
    "An independent t-test is used to compare the means of two independent groups. In the heart disease dataset, we can test if the mean resting blood pressure (trestbps) differs between individuals with and without heart disease (assuming target column represents the presence of heart disease)."
   ]
  },
  {
   "cell_type": "code",
   "execution_count": 14,
   "metadata": {},
   "outputs": [
    {
     "name": "stdout",
     "output_type": "stream",
     "text": [
      "Independent Two-Sample t-test:\n",
      "Null Hypothesis: The mean resting blood pressure is the same for individuals with and without heart disease.\n",
      "t-statistic = nan, p-value = nan\n",
      "Result: Fail to reject the null hypothesis - no significant difference in resting blood pressure between individuals with and without heart disease.\n",
      "\n"
     ]
    }
   ],
   "source": [
    "# Independent two-sample t-test: Test if the mean resting blood pressure differs between heart disease and no heart disease\n",
    "\n",
    "group1 = df[df['AHD'] == 1]['RestBP']  # Patients with heart disease\n",
    "group2 = df[df['AHD'] == 0]['RestBP']  # Patients without heart disease\n",
    "\n",
    "t_statistic, p_value = ttest_ind(group1, group2)\n",
    "print(\"Independent Two-Sample t-test:\")\n",
    "print(\"Null Hypothesis: The mean resting blood pressure is the same for individuals with and without heart disease.\")\n",
    "print(f\"t-statistic = {t_statistic}, p-value = {p_value}\")\n",
    "if p_value < 0.05:\n",
    "    print(\"Result: Reject the null hypothesis - there is a significant difference in resting blood pressure between individuals with and without heart disease.\\n\")\n",
    "else:\n",
    "    print(\"Result: Fail to reject the null hypothesis - no significant difference in resting blood pressure between individuals with and without heart disease.\\n\")"
   ]
  },
  {
   "cell_type": "markdown",
   "metadata": {
    "vscode": {
     "languageId": "plaintext"
    }
   },
   "source": [
    "### Paired t-test"
   ]
  },
  {
   "cell_type": "markdown",
   "metadata": {
    "vscode": {
     "languageId": "plaintext"
    }
   },
   "source": [
    "A paired t-test is used to compare the means of two related groups. Let’s say the dataset includes a scenario where each individual’s cholesterol level (chol_before) was measured before and after a treatment (chol_after). We can test if there’s a significant change in cholesterol levels post-treatment.\n",
    "\n",
    "For this example, let’s assume we create these columns for demonstration purposes:"
   ]
  },
  {
   "cell_type": "code",
   "execution_count": 18,
   "metadata": {},
   "outputs": [
    {
     "name": "stdout",
     "output_type": "stream",
     "text": [
      "Paired t-test:\n",
      "Null Hypothesis: The mean cholesterol level before and after treatment is the same.\n",
      "t-statistic = 9.619967189412986, p-value = 2.7706526851086036e-19\n",
      "Result: Reject the null hypothesis - there is a significant difference in cholesterol levels before and after treatment.\n",
      "\n"
     ]
    }
   ],
   "source": [
    "# Adding hypothetical columns for demonstration\n",
    "df['chol_before'] = df['Chol']  # Assume 'chol' as before-treatment cholesterol\n",
    "df['chol_after'] = df['Chol'] - np.random.normal(5, 10, size=len(df))  # Hypothetical after-treatment cholesterol\n",
    "\n",
    "# Null Hypothesis: The mean cholesterol level before and after treatment is the same.\n",
    "t_statistic, p_value = ttest_rel(df['chol_before'], df['chol_after'])\n",
    "print(\"Paired t-test:\")\n",
    "print(\"Null Hypothesis: The mean cholesterol level before and after treatment is the same.\")\n",
    "print(f\"t-statistic = {t_statistic}, p-value = {p_value}\")\n",
    "if p_value < 0.05:\n",
    "    print(\"Result: Reject the null hypothesis - there is a significant difference in cholesterol levels before and after treatment.\\n\")\n",
    "else:\n",
    "    print(\"Result: Fail to reject the null hypothesis - no significant difference in cholesterol levels before and after treatment.\\n\")\n"
   ]
  },
  {
   "cell_type": "code",
   "execution_count": null,
   "metadata": {},
   "outputs": [],
   "source": []
  },
  {
   "cell_type": "code",
   "execution_count": null,
   "metadata": {},
   "outputs": [],
   "source": []
  },
  {
   "cell_type": "code",
   "execution_count": null,
   "metadata": {},
   "outputs": [],
   "source": []
  },
  {
   "cell_type": "code",
   "execution_count": null,
   "metadata": {},
   "outputs": [],
   "source": []
  },
  {
   "cell_type": "code",
   "execution_count": null,
   "metadata": {},
   "outputs": [],
   "source": []
  },
  {
   "cell_type": "code",
   "execution_count": null,
   "metadata": {},
   "outputs": [],
   "source": []
  },
  {
   "cell_type": "code",
   "execution_count": null,
   "metadata": {},
   "outputs": [],
   "source": []
  },
  {
   "cell_type": "code",
   "execution_count": null,
   "metadata": {},
   "outputs": [],
   "source": []
  },
  {
   "cell_type": "code",
   "execution_count": null,
   "metadata": {},
   "outputs": [],
   "source": []
  },
  {
   "cell_type": "code",
   "execution_count": null,
   "metadata": {},
   "outputs": [],
   "source": []
  },
  {
   "cell_type": "code",
   "execution_count": null,
   "metadata": {},
   "outputs": [],
   "source": []
  },
  {
   "cell_type": "code",
   "execution_count": null,
   "metadata": {},
   "outputs": [],
   "source": []
  },
  {
   "cell_type": "code",
   "execution_count": null,
   "metadata": {},
   "outputs": [],
   "source": []
  },
  {
   "cell_type": "code",
   "execution_count": null,
   "metadata": {},
   "outputs": [],
   "source": []
  },
  {
   "cell_type": "code",
   "execution_count": null,
   "metadata": {},
   "outputs": [],
   "source": []
  },
  {
   "cell_type": "code",
   "execution_count": null,
   "metadata": {},
   "outputs": [],
   "source": []
  },
  {
   "cell_type": "code",
   "execution_count": null,
   "metadata": {},
   "outputs": [],
   "source": []
  },
  {
   "cell_type": "code",
   "execution_count": null,
   "metadata": {},
   "outputs": [],
   "source": []
  },
  {
   "cell_type": "code",
   "execution_count": null,
   "metadata": {},
   "outputs": [],
   "source": []
  },
  {
   "cell_type": "code",
   "execution_count": null,
   "metadata": {},
   "outputs": [],
   "source": []
  },
  {
   "cell_type": "code",
   "execution_count": null,
   "metadata": {},
   "outputs": [],
   "source": []
  },
  {
   "cell_type": "code",
   "execution_count": null,
   "metadata": {},
   "outputs": [],
   "source": []
  },
  {
   "cell_type": "code",
   "execution_count": null,
   "metadata": {},
   "outputs": [],
   "source": []
  },
  {
   "cell_type": "code",
   "execution_count": null,
   "metadata": {},
   "outputs": [],
   "source": []
  },
  {
   "cell_type": "code",
   "execution_count": null,
   "metadata": {},
   "outputs": [],
   "source": []
  },
  {
   "cell_type": "code",
   "execution_count": null,
   "metadata": {},
   "outputs": [],
   "source": []
  },
  {
   "cell_type": "code",
   "execution_count": null,
   "metadata": {},
   "outputs": [],
   "source": []
  },
  {
   "cell_type": "code",
   "execution_count": null,
   "metadata": {},
   "outputs": [],
   "source": []
  },
  {
   "cell_type": "code",
   "execution_count": null,
   "metadata": {},
   "outputs": [],
   "source": []
  },
  {
   "cell_type": "code",
   "execution_count": null,
   "metadata": {},
   "outputs": [],
   "source": []
  },
  {
   "cell_type": "code",
   "execution_count": null,
   "metadata": {},
   "outputs": [],
   "source": []
  }
 ],
 "metadata": {
  "kernelspec": {
   "display_name": "base",
   "language": "python",
   "name": "python3"
  },
  "language_info": {
   "codemirror_mode": {
    "name": "ipython",
    "version": 3
   },
   "file_extension": ".py",
   "mimetype": "text/x-python",
   "name": "python",
   "nbconvert_exporter": "python",
   "pygments_lexer": "ipython3",
   "version": "3.12.7"
  }
 },
 "nbformat": 4,
 "nbformat_minor": 2
}
