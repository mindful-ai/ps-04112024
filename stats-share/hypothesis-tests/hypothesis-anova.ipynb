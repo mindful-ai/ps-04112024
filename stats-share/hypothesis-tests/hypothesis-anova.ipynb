{
 "cells": [
  {
   "cell_type": "markdown",
   "metadata": {},
   "source": [
    "### ANOVA"
   ]
  },
  {
   "cell_type": "markdown",
   "metadata": {},
   "source": [
    "Scenario: Used to test for significant differences between the means of three or more independent groups.\n",
    "    \n",
    "Example: Testing if mean monthly sales differ across three store locations.\n",
    "\n",
    "Dataset: store_sales.csv with columns Store, MonthlySales"
   ]
  },
  {
   "cell_type": "code",
   "execution_count": null,
   "metadata": {},
   "outputs": [],
   "source": [
    "from scipy.stats import f_oneway\n",
    "\n",
    "# Example - Store sales data\n",
    "sales_data = pd.read_csv('store_sales.csv')\n",
    "store_a = sales_data[sales_data['Store'] == 'A']['MonthlySales']\n",
    "store_b = sales_data[sales_data['Store'] == 'B']['MonthlySales']\n",
    "store_c = sales_data[sales_data['Store'] == 'C']['MonthlySales']\n",
    "f_stat, p_value = f_oneway(store_a, store_b, store_c)\n",
    "print(\"ANOVA for store sales:\", p_value)"
   ]
  },
  {
   "cell_type": "code",
   "execution_count": null,
   "metadata": {},
   "outputs": [],
   "source": []
  },
  {
   "cell_type": "markdown",
   "metadata": {},
   "source": [
    "### ANOVA on Study Methods"
   ]
  },
  {
   "cell_type": "code",
   "execution_count": 1,
   "metadata": {},
   "outputs": [
    {
     "name": "stdout",
     "output_type": "stream",
     "text": [
      "F-statistic: 34.15384615384615\n",
      "p-value: 0.0005264443012584103\n",
      "Reject the null hypothesis: At least one study method has a different mean score.\n"
     ]
    }
   ],
   "source": [
    "import pandas as pd\n",
    "from scipy.stats import f_oneway\n",
    "\n",
    "# Load data\n",
    "data = pd.DataFrame({\n",
    "    'StudyMethod': ['Method A', 'Method A', 'Method A', 'Method B', 'Method B', 'Method B', 'Method C', 'Method C', 'Method C'],\n",
    "    'Score': [85, 88, 90, 78, 82, 79, 92, 95, 94]\n",
    "})\n",
    "\n",
    "# Separate the scores by study method\n",
    "method_a_scores = data[data['StudyMethod'] == 'Method A']['Score']\n",
    "method_b_scores = data[data['StudyMethod'] == 'Method B']['Score']\n",
    "method_c_scores = data[data['StudyMethod'] == 'Method C']['Score']\n",
    "\n",
    "# Perform one-way ANOVA\n",
    "f_stat, p_value = f_oneway(method_a_scores, method_b_scores, method_c_scores)\n",
    "\n",
    "print(\"F-statistic:\", f_stat)\n",
    "print(\"p-value:\", p_value)\n",
    "\n",
    "# Interpretation\n",
    "alpha = 0.05\n",
    "if p_value < alpha:\n",
    "    print(\"Reject the null hypothesis: At least one study method has a different mean score.\")\n",
    "else:\n",
    "    print(\"Fail to reject the null hypothesis: No significant difference between study methods.\")\n"
   ]
  },
  {
   "cell_type": "markdown",
   "metadata": {},
   "source": [
    "### Implementing ANOVA on Heart Dataset"
   ]
  },
  {
   "cell_type": "code",
   "execution_count": 2,
   "metadata": {},
   "outputs": [
    {
     "name": "stdout",
     "output_type": "stream",
     "text": [
      "F-statistic: nan\n",
      "p-value: nan\n",
      "Fail to reject the null hypothesis: No significant difference in cholesterol levels between chest pain types.\n"
     ]
    },
    {
     "name": "stderr",
     "output_type": "stream",
     "text": [
      "c:\\Users\\mindf\\anaconda3\\Lib\\site-packages\\scipy\\stats\\_stats_py.py:4102: DegenerateDataWarning: at least one input has length 0\n",
      "  if _f_oneway_is_too_small(samples):\n"
     ]
    }
   ],
   "source": [
    "import pandas as pd\n",
    "from scipy.stats import f_oneway\n",
    "\n",
    "# Load dataset\n",
    "# Assume 'heart.csv' has columns: 'age', 'sex', 'cp', 'chol'\n",
    "heart_data = pd.read_csv('heart.csv')\n",
    "\n",
    "# Separate cholesterol levels by chest pain type\n",
    "chol_cp_0 = heart_data[heart_data['cp'] == 0]['chol']  # Typical angina\n",
    "chol_cp_1 = heart_data[heart_data['cp'] == 1]['chol']  # Atypical angina\n",
    "chol_cp_2 = heart_data[heart_data['cp'] == 2]['chol']  # Non-anginal pain\n",
    "chol_cp_3 = heart_data[heart_data['cp'] == 3]['chol']  # Asymptomatic\n",
    "\n",
    "# Perform one-way ANOVA\n",
    "f_stat, p_value = f_oneway(chol_cp_0, chol_cp_1, chol_cp_2, chol_cp_3)\n",
    "\n",
    "print(\"F-statistic:\", f_stat)\n",
    "print(\"p-value:\", p_value)\n",
    "\n",
    "# Interpret the results\n",
    "alpha = 0.05\n",
    "if p_value < alpha:\n",
    "    print(\"Reject the null hypothesis: There is a significant difference in average cholesterol levels between chest pain types.\")\n",
    "else:\n",
    "    print(\"Fail to reject the null hypothesis: No significant difference in cholesterol levels between chest pain types.\")\n"
   ]
  },
  {
   "cell_type": "code",
   "execution_count": null,
   "metadata": {},
   "outputs": [],
   "source": []
  },
  {
   "cell_type": "code",
   "execution_count": null,
   "metadata": {},
   "outputs": [],
   "source": []
  },
  {
   "cell_type": "code",
   "execution_count": null,
   "metadata": {},
   "outputs": [],
   "source": []
  }
 ],
 "metadata": {
  "kernelspec": {
   "display_name": "base",
   "language": "python",
   "name": "python3"
  },
  "language_info": {
   "codemirror_mode": {
    "name": "ipython",
    "version": 3
   },
   "file_extension": ".py",
   "mimetype": "text/x-python",
   "name": "python",
   "nbconvert_exporter": "python",
   "pygments_lexer": "ipython3",
   "version": "3.12.7"
  }
 },
 "nbformat": 4,
 "nbformat_minor": 2
}
