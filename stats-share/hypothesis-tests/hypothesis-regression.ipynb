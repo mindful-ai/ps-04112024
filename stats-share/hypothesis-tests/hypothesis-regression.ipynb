{
 "cells": [
  {
   "cell_type": "markdown",
   "metadata": {
    "vscode": {
     "languageId": "plaintext"
    }
   },
   "source": [
    "### Regression Analysis Tests"
   ]
  },
  {
   "cell_type": "markdown",
   "metadata": {
    "vscode": {
     "languageId": "plaintext"
    }
   },
   "source": [
    "Scenario: Regression tests analyze relationships between one dependent variable and one or more independent variables.\n",
    "\n",
    "Example: Simple linear regression to predict salary based on years of experience.\n",
    "\n",
    "Dataset: employee_data.csv with columns YearsExperience, Salary."
   ]
  },
  {
   "cell_type": "code",
   "execution_count": null,
   "metadata": {},
   "outputs": [],
   "source": [
    "import statsmodels.api as sm\n",
    "\n",
    "# Example- Simple linear regression\n",
    "employee_data = pd.read_csv('employee_data.csv')\n",
    "X = employee_data[['YearsExperience']]\n",
    "y = employee_data['Salary']\n",
    "X = sm.add_constant(X)  # Adds intercept\n",
    "model = sm.OLS(y, X).fit()\n",
    "print(model.summary())"
   ]
  },
  {
   "cell_type": "code",
   "execution_count": null,
   "metadata": {},
   "outputs": [],
   "source": []
  }
 ],
 "metadata": {
  "kernelspec": {
   "display_name": "base",
   "language": "python",
   "name": "python3"
  },
  "language_info": {
   "name": "python",
   "version": "3.11.7"
  }
 },
 "nbformat": 4,
 "nbformat_minor": 2
}
