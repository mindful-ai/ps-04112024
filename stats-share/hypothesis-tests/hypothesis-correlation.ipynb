{
 "cells": [
  {
   "cell_type": "markdown",
   "metadata": {
    "vscode": {
     "languageId": "plaintext"
    }
   },
   "source": [
    "### Pearson Correlation Test"
   ]
  },
  {
   "cell_type": "markdown",
   "metadata": {
    "vscode": {
     "languageId": "plaintext"
    }
   },
   "source": [
    "\n",
    "Scenario: Measures the linear relationship between two continuous variables.\n",
    "\n",
    "Example 1: Checking the correlation between hours studied and test scores.\n",
    "\n",
    "Dataset: study_data.csv with columns HoursStudied, TestScore."
   ]
  },
  {
   "cell_type": "code",
   "execution_count": null,
   "metadata": {},
   "outputs": [],
   "source": [
    "from scipy.stats import pearsonr\n",
    "\n",
    "# Example 1 - Study data\n",
    "study_data = pd.read_csv('study_data.csv')\n",
    "corr, p_value = pearsonr(study_data['HoursStudied'], study_data['TestScore'])\n",
    "print(\"Pearson correlation for hours studied and test score:\", corr, p_value)"
   ]
  },
  {
   "cell_type": "markdown",
   "metadata": {
    "vscode": {
     "languageId": "plaintext"
    }
   },
   "source": [
    "### Spearman Correlation Test"
   ]
  },
  {
   "cell_type": "markdown",
   "metadata": {
    "vscode": {
     "languageId": "plaintext"
    }
   },
   "source": [
    "Scenario: Measures monotonic relationships (not necessarily linear) between two continuous or ordinal variables.\n",
    "\n",
    "Example: Testing correlation between satisfaction score (ordinal) and service duration.\n",
    "\n",
    "Dataset: service_data.csv with columns SatisfactionScore, ServiceDuration."
   ]
  },
  {
   "cell_type": "code",
   "execution_count": null,
   "metadata": {},
   "outputs": [],
   "source": [
    "from scipy.stats import spearmanr\n",
    "\n",
    "# Example 1 - Service data\n",
    "service_data = pd.read_csv('service_data.csv')\n",
    "corr, p_value = spearmanr(service_data['SatisfactionScore'], service_data['ServiceDuration'])\n",
    "print(\"Spearman correlation for satisfaction and service duration:\", corr, p_value)"
   ]
  },
  {
   "cell_type": "code",
   "execution_count": null,
   "metadata": {},
   "outputs": [],
   "source": []
  }
 ],
 "metadata": {
  "kernelspec": {
   "display_name": "base",
   "language": "python",
   "name": "python3"
  },
  "language_info": {
   "name": "python",
   "version": "3.11.7"
  }
 },
 "nbformat": 4,
 "nbformat_minor": 2
}
