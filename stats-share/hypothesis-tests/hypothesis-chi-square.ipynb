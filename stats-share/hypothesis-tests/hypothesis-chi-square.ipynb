{
 "cells": [
  {
   "cell_type": "markdown",
   "metadata": {},
   "source": [
    "### Chi-square Test"
   ]
  },
  {
   "cell_type": "markdown",
   "metadata": {},
   "source": [
    "Scenario: Tests if there’s an association between two categorical variables.\n",
    "\n",
    "Example: Checking if gender and preferred product category are independent.\n",
    "\n",
    "Dataset: preferences.csv with columns Gender, ProductCategory"
   ]
  },
  {
   "cell_type": "code",
   "execution_count": 3,
   "metadata": {},
   "outputs": [
    {
     "name": "stdout",
     "output_type": "stream",
     "text": [
      "Chi-square test for independence in preferences: 0.43304287262068974\n"
     ]
    }
   ],
   "source": [
    "from scipy.stats import chi2_contingency\n",
    "import pandas as pd\n",
    "\n",
    "# Example 1 - Product preferences data\n",
    "preferences = pd.read_csv('retail_sales_dataset.csv')\n",
    "data = pd.crosstab(preferences['Gender'], preferences['Product Category'])\n",
    "chi2, p_value, _, _ = chi2_contingency(data)\n",
    "print(\"Chi-square test for independence in preferences:\", p_value)"
   ]
  },
  {
   "cell_type": "markdown",
   "metadata": {},
   "source": [
    "### Chi-square test for exercise preference"
   ]
  },
  {
   "cell_type": "code",
   "execution_count": 4,
   "metadata": {},
   "outputs": [
    {
     "name": "stdout",
     "output_type": "stream",
     "text": [
      "Chi-square Statistic: 2.2392344497607652\n",
      "p-value: 0.3264047103162396\n",
      "Degrees of Freedom: 2\n",
      "Expected Frequencies:\n",
      " [[26.38888889 23.61111111]\n",
      " [39.58333333 35.41666667]\n",
      " [29.02777778 25.97222222]]\n",
      "Fail to reject the null hypothesis: There is no significant association between gender and exercise preference.\n"
     ]
    }
   ],
   "source": [
    "import pandas as pd\n",
    "from scipy.stats import chi2_contingency\n",
    "\n",
    "# Create a contingency table\n",
    "data = {\n",
    "    'Exercise Type': ['Yoga', 'Running', 'Weightlifting'],\n",
    "    'Male': [30, 40, 25],\n",
    "    'Female': [20, 35, 30]\n",
    "}\n",
    "\n",
    "df = pd.DataFrame(data)\n",
    "contingency_table = pd.DataFrame(df.set_index('Exercise Type'))\n",
    "\n",
    "# Conduct the Chi-square test\n",
    "chi2_stat, p_value, dof, expected = chi2_contingency(contingency_table)\n",
    "\n",
    "print(\"Chi-square Statistic:\", chi2_stat)\n",
    "print(\"p-value:\", p_value)\n",
    "print(\"Degrees of Freedom:\", dof)\n",
    "print(\"Expected Frequencies:\\n\", expected)\n",
    "\n",
    "# Interpret the results\n",
    "alpha = 0.05\n",
    "if p_value < alpha:\n",
    "    print(\"Reject the null hypothesis: There is a significant association between gender and exercise preference.\")\n",
    "else:\n",
    "    print(\"Fail to reject the null hypothesis: There is no significant association between gender and exercise preference.\")\n"
   ]
  },
  {
   "cell_type": "markdown",
   "metadata": {},
   "source": [
    "### Chi-square for heart dataset"
   ]
  },
  {
   "cell_type": "markdown",
   "metadata": {},
   "source": [
    "Create the Contingency Table: We organized our hypothetical data into a structured format representing counts of heart disease cases for each chest pain type.\n",
    "\n",
    "\n",
    "Chi-square Test: We used the chi2_contingency function to perform the Chi-square test, which computes the Chi-square statistic, p-value, degrees of freedom, and expected frequencies based on the observed counts.\n",
    "\n",
    "\n",
    "Interpretation: By comparing the p-value to our significance level (0.05), we can determine whether to reject or fail to reject the null hypothesis."
   ]
  },
  {
   "cell_type": "code",
   "execution_count": 5,
   "metadata": {},
   "outputs": [
    {
     "name": "stdout",
     "output_type": "stream",
     "text": [
      "Chi-square Statistic: 45.070601851851855\n",
      "p-value: 8.938482781557331e-10\n",
      "Degrees of Freedom: 3\n",
      "Expected Frequencies:\n",
      " [[17.14285714 22.85714286]\n",
      " [17.14285714 22.85714286]\n",
      " [21.42857143 28.57142857]\n",
      " [19.28571429 25.71428571]]\n",
      "Reject the null hypothesis: There is a significant association between chest pain type and heart disease presence.\n"
     ]
    }
   ],
   "source": [
    "import pandas as pd\n",
    "from scipy.stats import chi2_contingency\n",
    "\n",
    "# Create a contingency table\n",
    "data = {\n",
    "    'Chest Pain Type': ['Typical angina', 'Atypical angina', 'Non-anginal pain', 'Asymptomatic'],\n",
    "    'Heart Disease (Yes)': [30, 25, 15, 5],\n",
    "    'Heart Disease (No)': [10, 15, 35, 40]\n",
    "}\n",
    "\n",
    "df = pd.DataFrame(data)\n",
    "contingency_table = pd.DataFrame(df.set_index('Chest Pain Type'))\n",
    "\n",
    "# Conduct the Chi-square test\n",
    "chi2_stat, p_value, dof, expected = chi2_contingency(contingency_table)\n",
    "\n",
    "print(\"Chi-square Statistic:\", chi2_stat)\n",
    "print(\"p-value:\", p_value)\n",
    "print(\"Degrees of Freedom:\", dof)\n",
    "print(\"Expected Frequencies:\\n\", expected)\n",
    "\n",
    "# Interpret the results\n",
    "alpha = 0.05\n",
    "if p_value < alpha:\n",
    "    print(\"Reject the null hypothesis: There is a significant association between chest pain type and heart disease presence.\")\n",
    "else:\n",
    "    print(\"Fail to reject the null hypothesis: There is no significant association between chest pain type and heart disease presence.\")\n"
   ]
  },
  {
   "cell_type": "code",
   "execution_count": null,
   "metadata": {},
   "outputs": [],
   "source": []
  }
 ],
 "metadata": {
  "kernelspec": {
   "display_name": "base",
   "language": "python",
   "name": "python3"
  },
  "language_info": {
   "codemirror_mode": {
    "name": "ipython",
    "version": 3
   },
   "file_extension": ".py",
   "mimetype": "text/x-python",
   "name": "python",
   "nbconvert_exporter": "python",
   "pygments_lexer": "ipython3",
   "version": "3.12.7"
  }
 },
 "nbformat": 4,
 "nbformat_minor": 2
}
