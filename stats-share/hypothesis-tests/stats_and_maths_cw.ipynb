{
 "cells": [
  {
   "cell_type": "markdown",
   "metadata": {},
   "source": [
    "### 1. Sampling with without replacement"
   ]
  },
  {
   "cell_type": "markdown",
   "metadata": {},
   "source": [
    "An ice-cream manufacturer wants to study the sales of ice-creams to decide the production policies of the company. He collects the data for the number of ice-creams sold in a month from the 30 franchise. Randomly select the sales of 10 franchise for the study. data = [21, 93, 62, 76, 73, 20, 56, 95, 41, 36, 38, 13, 80, 88, 34, 18, 40, 11, 25, 29, 61, 23, 82, 10, 92, 69, 60, 87, 14, 91]"
   ]
  },
  {
   "cell_type": "code",
   "execution_count": 1,
   "metadata": {},
   "outputs": [],
   "source": [
    "data =  [21, 93, 62, 76, 73, 20, 56, 95, 41, 36, 38, 13, 80, 88, 34, 18, 40, 11, 25, 29, 61, 23, 82, 10, 92, 69, 60, 87, 14, 91]"
   ]
  },
  {
   "cell_type": "code",
   "execution_count": 2,
   "metadata": {},
   "outputs": [],
   "source": [
    "import random"
   ]
  },
  {
   "cell_type": "code",
   "execution_count": 3,
   "metadata": {},
   "outputs": [
    {
     "data": {
      "text/plain": [
       "[23, 69, 38, 62, 88, 73, 61, 18, 95, 10]"
      ]
     },
     "execution_count": 3,
     "metadata": {},
     "output_type": "execute_result"
    }
   ],
   "source": [
    "random.sample(data, k=10)"
   ]
  },
  {
   "cell_type": "code",
   "execution_count": 4,
   "metadata": {},
   "outputs": [
    {
     "data": {
      "text/plain": [
       "[[80, 73, 23, 91, 69, 93, 56, 60, 18, 38],\n",
       " [87, 92, 11, 38, 93, 60, 95, 56, 14, 34],\n",
       " [38, 60, 34, 92, 13, 93, 40, 11, 88, 23],\n",
       " [60, 69, 73, 40, 56, 92, 95, 62, 18, 41],\n",
       " [21, 38, 61, 41, 88, 82, 20, 11, 92, 40],\n",
       " [34, 69, 25, 88, 40, 38, 92, 91, 60, 23],\n",
       " [88, 92, 80, 62, 91, 40, 69, 23, 34, 73],\n",
       " [21, 80, 10, 20, 29, 87, 61, 56, 95, 60],\n",
       " [61, 80, 20, 38, 25, 41, 88, 13, 14, 10],\n",
       " [34, 21, 25, 60, 13, 11, 91, 69, 14, 62]]"
      ]
     },
     "execution_count": 4,
     "metadata": {},
     "output_type": "execute_result"
    }
   ],
   "source": [
    "samples=[random.sample(data, k=10) for i in range(10)]\n",
    "samples"
   ]
  },
  {
   "cell_type": "markdown",
   "metadata": {},
   "source": [
    "### 2. Sampling with replacement"
   ]
  },
  {
   "cell_type": "markdown",
   "metadata": {},
   "source": [
    "Consider 8 identical boxes that contain different number of shuttlecocks. Draw a sample of 20 boxes with replacement.\n",
    "\n",
    "data = [18, 13, 16, 17, 15, 21, 19, 12]"
   ]
  },
  {
   "cell_type": "code",
   "execution_count": 5,
   "metadata": {},
   "outputs": [],
   "source": [
    "data = [18, 13, 16, 17, 15, 21, 19, 12]"
   ]
  },
  {
   "cell_type": "code",
   "execution_count": 6,
   "metadata": {},
   "outputs": [
    {
     "data": {
      "text/plain": [
       "[15, 13, 12, 18, 16, 18, 18, 16, 13, 18]"
      ]
     },
     "execution_count": 6,
     "metadata": {},
     "output_type": "execute_result"
    }
   ],
   "source": [
    "random.choices(data, k= 10)"
   ]
  },
  {
   "cell_type": "code",
   "execution_count": 7,
   "metadata": {},
   "outputs": [
    {
     "data": {
      "text/plain": [
       "[[13, 18, 21, 21, 15, 16, 16, 18, 18, 13],\n",
       " [15, 17, 15, 13, 12, 13, 12, 17, 16, 12],\n",
       " [19, 18, 19, 16, 18, 13, 12, 17, 17, 17],\n",
       " [12, 15, 21, 13, 15, 19, 18, 12, 17, 17],\n",
       " [16, 19, 16, 17, 15, 17, 16, 19, 18, 13],\n",
       " [12, 18, 17, 21, 13, 13, 13, 12, 16, 19],\n",
       " [12, 13, 21, 18, 21, 19, 17, 19, 16, 19],\n",
       " [21, 17, 16, 16, 12, 18, 15, 19, 19, 19],\n",
       " [21, 12, 16, 21, 12, 18, 18, 18, 21, 17],\n",
       " [15, 21, 16, 13, 13, 21, 21, 12, 19, 19]]"
      ]
     },
     "execution_count": 7,
     "metadata": {},
     "output_type": "execute_result"
    }
   ],
   "source": [
    "samples=[random.choices(data, k=10) for i in range(10)]\n",
    "samples"
   ]
  },
  {
   "cell_type": "markdown",
   "metadata": {},
   "source": [
    "### 3. Stratified Sampling"
   ]
  },
  {
   "cell_type": "code",
   "execution_count": 8,
   "metadata": {},
   "outputs": [],
   "source": [
    "import pandas as pd\n",
    "income = pd.DataFrame({'status':['Low', 'High', 'Below Poverty', 'Middle', 'Low', 'High','Middle', 'Low', 'Middle', \n",
    "                                      'High', 'Middle', 'Below Poverty', 'Low', 'Below Poverty', 'High'],\n",
    "                       'inc':[4850, 9270, 2520, 6020, 5790, 10400, 7140, 3100, 6850, 9740, 6540, 1230, 4400, 2210, 9880]})"
   ]
  },
  {
   "cell_type": "code",
   "execution_count": 10,
   "metadata": {},
   "outputs": [
    {
     "data": {
      "text/html": [
       "<div>\n",
       "<style scoped>\n",
       "    .dataframe tbody tr th:only-of-type {\n",
       "        vertical-align: middle;\n",
       "    }\n",
       "\n",
       "    .dataframe tbody tr th {\n",
       "        vertical-align: top;\n",
       "    }\n",
       "\n",
       "    .dataframe thead th {\n",
       "        text-align: right;\n",
       "    }\n",
       "</style>\n",
       "<table border=\"1\" class=\"dataframe\">\n",
       "  <thead>\n",
       "    <tr style=\"text-align: right;\">\n",
       "      <th></th>\n",
       "      <th>status</th>\n",
       "      <th>inc</th>\n",
       "    </tr>\n",
       "  </thead>\n",
       "  <tbody>\n",
       "    <tr>\n",
       "      <th>0</th>\n",
       "      <td>Low</td>\n",
       "      <td>4850</td>\n",
       "    </tr>\n",
       "    <tr>\n",
       "      <th>1</th>\n",
       "      <td>High</td>\n",
       "      <td>9270</td>\n",
       "    </tr>\n",
       "    <tr>\n",
       "      <th>2</th>\n",
       "      <td>Below Poverty</td>\n",
       "      <td>2520</td>\n",
       "    </tr>\n",
       "    <tr>\n",
       "      <th>3</th>\n",
       "      <td>Middle</td>\n",
       "      <td>6020</td>\n",
       "    </tr>\n",
       "    <tr>\n",
       "      <th>4</th>\n",
       "      <td>Low</td>\n",
       "      <td>5790</td>\n",
       "    </tr>\n",
       "    <tr>\n",
       "      <th>5</th>\n",
       "      <td>High</td>\n",
       "      <td>10400</td>\n",
       "    </tr>\n",
       "    <tr>\n",
       "      <th>6</th>\n",
       "      <td>Middle</td>\n",
       "      <td>7140</td>\n",
       "    </tr>\n",
       "    <tr>\n",
       "      <th>7</th>\n",
       "      <td>Low</td>\n",
       "      <td>3100</td>\n",
       "    </tr>\n",
       "    <tr>\n",
       "      <th>8</th>\n",
       "      <td>Middle</td>\n",
       "      <td>6850</td>\n",
       "    </tr>\n",
       "    <tr>\n",
       "      <th>9</th>\n",
       "      <td>High</td>\n",
       "      <td>9740</td>\n",
       "    </tr>\n",
       "    <tr>\n",
       "      <th>10</th>\n",
       "      <td>Middle</td>\n",
       "      <td>6540</td>\n",
       "    </tr>\n",
       "    <tr>\n",
       "      <th>11</th>\n",
       "      <td>Below Poverty</td>\n",
       "      <td>1230</td>\n",
       "    </tr>\n",
       "    <tr>\n",
       "      <th>12</th>\n",
       "      <td>Low</td>\n",
       "      <td>4400</td>\n",
       "    </tr>\n",
       "    <tr>\n",
       "      <th>13</th>\n",
       "      <td>Below Poverty</td>\n",
       "      <td>2210</td>\n",
       "    </tr>\n",
       "    <tr>\n",
       "      <th>14</th>\n",
       "      <td>High</td>\n",
       "      <td>9880</td>\n",
       "    </tr>\n",
       "  </tbody>\n",
       "</table>\n",
       "</div>"
      ],
      "text/plain": [
       "           status    inc\n",
       "0             Low   4850\n",
       "1            High   9270\n",
       "2   Below Poverty   2520\n",
       "3          Middle   6020\n",
       "4             Low   5790\n",
       "5            High  10400\n",
       "6          Middle   7140\n",
       "7             Low   3100\n",
       "8          Middle   6850\n",
       "9            High   9740\n",
       "10         Middle   6540\n",
       "11  Below Poverty   1230\n",
       "12            Low   4400\n",
       "13  Below Poverty   2210\n",
       "14           High   9880"
      ]
     },
     "execution_count": 10,
     "metadata": {},
     "output_type": "execute_result"
    }
   ],
   "source": [
    "income"
   ]
  },
  {
   "cell_type": "code",
   "execution_count": 12,
   "metadata": {},
   "outputs": [
    {
     "data": {
      "text/plain": [
       "Middle           4\n",
       "Low              4\n",
       "High             4\n",
       "Below Poverty    3\n",
       "Name: status, dtype: int64"
      ]
     },
     "execution_count": 12,
     "metadata": {},
     "output_type": "execute_result"
    }
   ],
   "source": [
    "income['status'].value_counts()"
   ]
  },
  {
   "cell_type": "code",
   "execution_count": 13,
   "metadata": {},
   "outputs": [
    {
     "data": {
      "text/html": [
       "<div>\n",
       "<style scoped>\n",
       "    .dataframe tbody tr th:only-of-type {\n",
       "        vertical-align: middle;\n",
       "    }\n",
       "\n",
       "    .dataframe tbody tr th {\n",
       "        vertical-align: top;\n",
       "    }\n",
       "\n",
       "    .dataframe thead th {\n",
       "        text-align: right;\n",
       "    }\n",
       "</style>\n",
       "<table border=\"1\" class=\"dataframe\">\n",
       "  <thead>\n",
       "    <tr style=\"text-align: right;\">\n",
       "      <th></th>\n",
       "      <th></th>\n",
       "      <th>status</th>\n",
       "      <th>inc</th>\n",
       "    </tr>\n",
       "    <tr>\n",
       "      <th>status</th>\n",
       "      <th></th>\n",
       "      <th></th>\n",
       "      <th></th>\n",
       "    </tr>\n",
       "  </thead>\n",
       "  <tbody>\n",
       "    <tr>\n",
       "      <th rowspan=\"2\" valign=\"top\">Below Poverty</th>\n",
       "      <th>13</th>\n",
       "      <td>Below Poverty</td>\n",
       "      <td>2210</td>\n",
       "    </tr>\n",
       "    <tr>\n",
       "      <th>2</th>\n",
       "      <td>Below Poverty</td>\n",
       "      <td>2520</td>\n",
       "    </tr>\n",
       "    <tr>\n",
       "      <th rowspan=\"2\" valign=\"top\">High</th>\n",
       "      <th>14</th>\n",
       "      <td>High</td>\n",
       "      <td>9880</td>\n",
       "    </tr>\n",
       "    <tr>\n",
       "      <th>5</th>\n",
       "      <td>High</td>\n",
       "      <td>10400</td>\n",
       "    </tr>\n",
       "    <tr>\n",
       "      <th rowspan=\"2\" valign=\"top\">Low</th>\n",
       "      <th>0</th>\n",
       "      <td>Low</td>\n",
       "      <td>4850</td>\n",
       "    </tr>\n",
       "    <tr>\n",
       "      <th>7</th>\n",
       "      <td>Low</td>\n",
       "      <td>3100</td>\n",
       "    </tr>\n",
       "    <tr>\n",
       "      <th rowspan=\"2\" valign=\"top\">Middle</th>\n",
       "      <th>10</th>\n",
       "      <td>Middle</td>\n",
       "      <td>6540</td>\n",
       "    </tr>\n",
       "    <tr>\n",
       "      <th>8</th>\n",
       "      <td>Middle</td>\n",
       "      <td>6850</td>\n",
       "    </tr>\n",
       "  </tbody>\n",
       "</table>\n",
       "</div>"
      ],
      "text/plain": [
       "                         status    inc\n",
       "status                                \n",
       "Below Poverty 13  Below Poverty   2210\n",
       "              2   Below Poverty   2520\n",
       "High          14           High   9880\n",
       "              5            High  10400\n",
       "Low           0             Low   4850\n",
       "              7             Low   3100\n",
       "Middle        10         Middle   6540\n",
       "              8          Middle   6850"
      ]
     },
     "execution_count": 13,
     "metadata": {},
     "output_type": "execute_result"
    }
   ],
   "source": [
    "ss = income.groupby('status').apply(lambda x : x.sample(2))\n",
    "ss"
   ]
  },
  {
   "cell_type": "markdown",
   "metadata": {},
   "source": [
    "### 4. Hypothesis Test"
   ]
  },
  {
   "cell_type": "markdown",
   "metadata": {},
   "source": [
    "Systolic blood pressures of 14 patients are given below:\n",
    "\n",
    "183, 152, 178, 157, 194, 163, 144, 114, 178, 152, 118, 158, 172, 138\n",
    "\n",
    "Test whether the average blood pressure is less than 165"
   ]
  },
  {
   "cell_type": "markdown",
   "metadata": {},
   "source": [
    "H0: The average blood pressure did not drop =>  μ = 165\n",
    "\n",
    "H1:  μ < 165"
   ]
  },
  {
   "cell_type": "code",
   "execution_count": 17,
   "metadata": {},
   "outputs": [],
   "source": [
    "bp = [183, 152, 178, 157, 194, 163, 144, 114, 178, 152, 118, 158, 172, 138]"
   ]
  },
  {
   "cell_type": "code",
   "execution_count": 18,
   "metadata": {},
   "outputs": [],
   "source": [
    "mean = 165"
   ]
  },
  {
   "cell_type": "code",
   "execution_count": 19,
   "metadata": {},
   "outputs": [],
   "source": [
    "from scipy.stats import ttest_1samp"
   ]
  },
  {
   "cell_type": "code",
   "execution_count": 21,
   "metadata": {},
   "outputs": [],
   "source": [
    "tstatistic, pvalue_tt = ttest_1samp(bp, mean)"
   ]
  },
  {
   "cell_type": "code",
   "execution_count": 23,
   "metadata": {},
   "outputs": [],
   "source": [
    "pvalue_lt = pvalue_tt/2"
   ]
  },
  {
   "cell_type": "code",
   "execution_count": 24,
   "metadata": {},
   "outputs": [
    {
     "data": {
      "text/plain": [
       "0.11787740505906531"
      ]
     },
     "execution_count": 24,
     "metadata": {},
     "output_type": "execute_result"
    }
   ],
   "source": [
    "pvalue_lt\n"
   ]
  },
  {
   "cell_type": "code",
   "execution_count": 25,
   "metadata": {},
   "outputs": [],
   "source": [
    "alpha = 0.05"
   ]
  },
  {
   "cell_type": "code",
   "execution_count": 26,
   "metadata": {},
   "outputs": [
    {
     "name": "stdout",
     "output_type": "stream",
     "text": [
      "Failed to reject the null hypothesis\n"
     ]
    }
   ],
   "source": [
    "if pvalue_tt < alpha:\n",
    "    print(\"Reject the null hypothesis\")\n",
    "else:\n",
    "    print(\"Failed to reject the null hypothesis\")"
   ]
  },
  {
   "cell_type": "markdown",
   "metadata": {},
   "source": [
    "### 5. Hypothesis Testing with Two Samples"
   ]
  },
  {
   "cell_type": "markdown",
   "metadata": {},
   "source": [
    "Compare the effectiveness of ammonium chloride and urea, on the grain yield of paddy, an experiment was conducted. The results are given below:\n",
    "\n",
    "Ammonium chloride (X1)\n",
    "\n",
    "13.4 10.9 11.2 11.8 14 15.3 14.2 12.6 17 16.2 16.5 15.7 \n",
    "\n",
    "Urea (X2) \n",
    "\n",
    "12 11.7 10.7 11.2 14.8 14.4 13.9 13.7 16.9 16 15.6 16\n",
    "\n",
    "Hypothesis H0: The effect of ammonium chloride and urea on grain yield of paddy are equal i.e., μ1 = μ2\n",
    "\n",
    "H1: The effect of ammonium chloride and urea on grain yield of paddy is not equal i.e., μ1 ≠ μ2"
   ]
  },
  {
   "cell_type": "code",
   "execution_count": 27,
   "metadata": {},
   "outputs": [],
   "source": [
    "ac = [13.4,10.9,11.2,11.8,14,15.3,14.2,12.6,17,16.2,16.5,15.7]\n",
    "ur = [12,11.7,10.7,11.2,14.8,14.4,13.9,13.7,16.9,16,15.6,16]"
   ]
  },
  {
   "cell_type": "code",
   "execution_count": 29,
   "metadata": {},
   "outputs": [],
   "source": [
    "from scipy.stats import ttest_ind\n",
    "t_value, p_value = ttest_ind(ac, ur)"
   ]
  },
  {
   "cell_type": "code",
   "execution_count": 30,
   "metadata": {},
   "outputs": [],
   "source": [
    "alpha = 0.05"
   ]
  },
  {
   "cell_type": "code",
   "execution_count": 31,
   "metadata": {},
   "outputs": [
    {
     "name": "stdout",
     "output_type": "stream",
     "text": [
      "Failed to reject the null hypothesis\n"
     ]
    }
   ],
   "source": [
    "if p_value > alpha:\n",
    "    print(\"Failed to reject the null hypothesis\")\n",
    "else:\n",
    "    print(\"Reject the null hypothesis, accept the alternative hypothesis\")"
   ]
  },
  {
   "cell_type": "code",
   "execution_count": 32,
   "metadata": {},
   "outputs": [
    {
     "data": {
      "text/plain": [
       "0.8551954147800473"
      ]
     },
     "execution_count": 32,
     "metadata": {},
     "output_type": "execute_result"
    }
   ],
   "source": [
    "p_value"
   ]
  },
  {
   "cell_type": "markdown",
   "metadata": {},
   "source": [
    "### 6. ANOVA"
   ]
  },
  {
   "cell_type": "code",
   "execution_count": 33,
   "metadata": {},
   "outputs": [],
   "source": [
    "# Source data from web - not really CSVs - just a list separated by new-line\n",
    "URLA = \"https://raw.githubusercontent.com/edbullen/Hypothesis/master/storeA.csv\"\n",
    "URLB = \"https://raw.githubusercontent.com/edbullen/Hypothesis/master/storeB.csv\"\n",
    "URLC = \"https://raw.githubusercontent.com/edbullen/Hypothesis/master/storeC.csv\""
   ]
  },
  {
   "cell_type": "code",
   "execution_count": 35,
   "metadata": {},
   "outputs": [],
   "source": [
    "import pandas as pd\n",
    "import urllib.request as urlreq"
   ]
  },
  {
   "cell_type": "code",
   "execution_count": 36,
   "metadata": {},
   "outputs": [
    {
     "data": {
      "text/plain": [
       "'7.357195018418435950e+01\\n3.836736256425078295e+01\\n4.936398786222506629e+01\\n6.196171419770013955e+01\\n3.873959044251329686e+01\\n5.594532269208924191e+01\\n3.665062483704001295e+01\\n6.067437230964763728e+01\\n6.307900236209383138e+01\\n8.732085001150807102e+01\\n5.034422982293834536e+01\\n5.710903340329299738e+01\\n7.867520952812168389e+01\\n6.103927417830038848e+01\\n8.228774307456050963e+01\\n5.358957581622391331e+01\\n7.292461536353366114e+01\\n7.456030310272610961e+01\\n5.502980576126244472e+01\\n4.125844437836526879e+01\\n5.379588118257881035e+01\\n6.479609893114158581e+01\\n7.069648919927517738e+01\\n6.674072317003410149e+01\\n7.501322050323572910e+01\\n9.512552860459085480e+01\\n4.945512800346693894e+01\\n6.603612648529461637e+01\\n5.302736304779577381e+01\\n7.336372417701470283e+01\\n4.025571097538361443e+01\\n7.104422625480138720e+01\\n5.050138450046251393e+01\\n3.822366663599243708e+01\\n4.275767497076680002e+01\\n5.250694334331922875e+01\\n3.860465800095423106e+01\\n5.967850535327480799e+01\\n4.419604564130632696e+01\\n4.692727223905029632e+01\\n5.524050063993864512e+01\\n6.452773076615216041e+01\\n3.409865428794979891e+01\\n4.223778758418599466e+01\\n5.286937388278037986e+01\\n9.010958086025604530e+01\\n5.977157363399898315e+01\\n6.557718324123243292e+01\\n6.740180559018563144e+01\\n5.673021713669207600e+01\\n6.326785746287571754e+01\\n4.537055306437379443e+01\\n8.038995288201294898e+01\\n8.765807684800267907e+01\\n5.145634914385123437e+01\\n6.599748438037690335e+01\\n7.247729986484409892e+01\\n6.430071532862405093e+01\\n1.973984606312312451e+01\\n4.623986878430007863e+01\\n5.234828787825712482e+01\\n6.111952526518822992e+01\\n5.620838267782464470e+01\\n3.934468135422784485e+01\\n5.793250946829005699e+01\\n5.337617283865964168e+01\\n4.881742261241011249e+01\\n8.003593772813557905e+01\\n4.225474001941580582e+01\\n4.446202469954634751e+01\\n6.324014289932584632e+01\\n5.375811252093936332e+01\\n4.112354868941920927e+01\\n7.037251821541531172e+01\\n5.804287059759288070e+01\\n5.380533131325982055e+01\\n3.355400810453667759e+01\\n5.005772818954029901e+01\\n5.901472300729621878e+01\\n6.318681146571653784e+01\\n5.636447660760124023e+01\\n7.954804110841452314e+01\\n5.758182512787529106e+01\\n4.180650265804810317e+01\\n6.329608989388803764e+01\\n6.920391058136740980e+01\\n7.907999731901252005e+01\\n6.887071255731028430e+01\\n5.461550389300290931e+01\\n4.162384273193332263e+01\\n5.805435004213445893e+01\\n5.719652908347755726e+01\\n6.906753866144781284e+01\\n7.673936006326441372e+01\\n6.171461741693730829e+01\\n9.044575863527471427e+01\\n4.497285945159764253e+01\\n1.493461322613611486e+01\\n6.022982158123146945e+01\\n3.703612975070725355e+01\\n3.857973402774244676e+01\\n5.635958870351284133e+01\\n9.582780235778004396e+01\\n8.289304549196448590e+01\\n4.808376399087323705e+01\\n4.140360494367988053e+01\\n3.962295002532137289e+01\\n6.815395305135625392e+01\\n6.251347589852274922e+01\\n4.839594646904971853e+01\\n4.343936620280713612e+01\\n5.386933710214819371e+01\\n4.540197090821353498e+01\\n4.265484355551922135e+01\\n7.756769985761755493e+01\\n4.221598942876697436e+01\\n8.022825437548189598e+01\\n5.220779730477585900e+01\\n4.185889515759354396e+01\\n8.340105977568414630e+01\\n6.319638331424418709e+01\\n6.135383467595413975e+01\\n8.002929924226415892e+01\\n4.889037457594122316e+01\\n5.397640551650137297e+01\\n5.644664214168479077e+01\\n5.013546236389973387e+01\\n4.193267705546017510e+01\\n6.223540804237562440e+01\\n6.002470793948996430e+01\\n7.194323654891901754e+01\\n5.937919399612486160e+01\\n4.288128137287135644e+01\\n7.918722896819622292e+01\\n7.931010057698902926e+01\\n4.844544745787756312e+01\\n5.191236907650098686e+01\\n4.113612282419907018e+01\\n6.507530570973150930e+01\\n4.921085782650790463e+01\\n8.250977679977884804e+01\\n6.094264609310779690e+01\\n5.683480823800186243e+01\\n6.473765846377608568e+01\\n6.944225076039874978e+01\\n4.786210010518421143e+01\\n7.252226994175532582e+01\\n6.898808622555003467e+01\\n5.823601965634116340e+01\\n6.384862397545446555e+01\\n'"
      ]
     },
     "execution_count": 36,
     "metadata": {},
     "output_type": "execute_result"
    }
   ],
   "source": [
    "A = urlreq.urlopen(URLA).read().decode()\n",
    "B = urlreq.urlopen(URLB).read().decode()\n",
    "C = urlreq.urlopen(URLC).read().decode()\n",
    "A"
   ]
  },
  {
   "cell_type": "code",
   "execution_count": 37,
   "metadata": {
    "scrolled": true
   },
   "outputs": [
    {
     "data": {
      "text/plain": [
       "array([73.57195018, 38.36736256, 49.36398786, 61.9617142 , 38.73959044,\n",
       "       55.94532269, 36.65062484, 60.67437231, 63.07900236, 87.32085001,\n",
       "       50.34422982, 57.1090334 , 78.67520953, 61.03927418, 82.28774307,\n",
       "       53.58957582, 72.92461536, 74.5603031 , 55.02980576, 41.25844438,\n",
       "       53.79588118, 64.79609893, 70.6964892 , 66.74072317, 75.0132205 ,\n",
       "       95.1255286 , 49.455128  , 66.03612649, 53.02736305, 73.36372418,\n",
       "       40.25571098, 71.04422625, 50.5013845 , 38.22366664, 42.75767497,\n",
       "       52.50694334, 38.604658  , 59.67850535, 44.19604564, 46.92727224,\n",
       "       55.24050064, 64.52773077, 34.09865429, 42.23778758, 52.86937388,\n",
       "       90.10958086, 59.77157363, 65.57718324, 67.40180559, 56.73021714,\n",
       "       63.26785746, 45.37055306, 80.38995288, 87.65807685, 51.45634914,\n",
       "       65.99748438, 72.47729986, 64.30071533, 19.73984606, 46.23986878,\n",
       "       52.34828788, 61.11952527, 56.20838268, 39.34468135, 57.93250947,\n",
       "       53.37617284, 48.81742261, 80.03593773, 42.25474002, 44.4620247 ,\n",
       "       63.2401429 , 53.75811252, 41.12354869, 70.37251822, 58.0428706 ,\n",
       "       53.80533131, 33.5540081 , 50.05772819, 59.01472301, 63.18681147,\n",
       "       56.36447661, 79.54804111, 57.58182513, 41.80650266, 63.29608989,\n",
       "       69.20391058, 79.07999732, 68.87071256, 54.61550389, 41.62384273,\n",
       "       58.05435004, 57.19652908, 69.06753866, 76.73936006, 61.71461742,\n",
       "       90.44575864, 44.97285945, 14.93461323, 60.22982158, 37.03612975,\n",
       "       38.57973403, 56.3595887 , 95.82780236, 82.89304549, 48.08376399,\n",
       "       41.40360494, 39.62295003, 68.15395305, 62.5134759 , 48.39594647,\n",
       "       43.4393662 , 53.8693371 , 45.40197091, 42.65484356, 77.56769986,\n",
       "       42.21598943, 80.22825438, 52.2077973 , 41.85889516, 83.40105978,\n",
       "       63.19638331, 61.35383468, 80.02929924, 48.89037458, 53.97640552,\n",
       "       56.44664214, 50.13546236, 41.93267706, 62.23540804, 60.02470794,\n",
       "       71.94323655, 59.379194  , 42.88128137, 79.18722897, 79.31010058,\n",
       "       48.44544746, 51.91236908, 41.13612282, 65.07530571, 49.21085783,\n",
       "       82.5097768 , 60.94264609, 56.83480824, 64.73765846, 69.44225076,\n",
       "       47.86210011, 72.52226994, 68.98808623, 58.23601966, 63.84862398])"
      ]
     },
     "execution_count": 37,
     "metadata": {},
     "output_type": "execute_result"
    }
   ],
   "source": [
    "import numpy as np\n",
    "A = np.asarray(A.split()).astype(float)\n",
    "B = np.asarray(B.split()).astype(float)\n",
    "C = np.asarray(C.split()).astype(float)\n",
    "A"
   ]
  },
  {
   "cell_type": "code",
   "execution_count": 38,
   "metadata": {},
   "outputs": [
    {
     "data": {
      "text/html": [
       "<div>\n",
       "<style scoped>\n",
       "    .dataframe tbody tr th:only-of-type {\n",
       "        vertical-align: middle;\n",
       "    }\n",
       "\n",
       "    .dataframe tbody tr th {\n",
       "        vertical-align: top;\n",
       "    }\n",
       "\n",
       "    .dataframe thead th {\n",
       "        text-align: right;\n",
       "    }\n",
       "</style>\n",
       "<table border=\"1\" class=\"dataframe\">\n",
       "  <thead>\n",
       "    <tr style=\"text-align: right;\">\n",
       "      <th></th>\n",
       "      <th>StoreA</th>\n",
       "      <th>StoreB</th>\n",
       "      <th>StoreC</th>\n",
       "    </tr>\n",
       "  </thead>\n",
       "  <tbody>\n",
       "    <tr>\n",
       "      <th>0</th>\n",
       "      <td>73.571950</td>\n",
       "      <td>78.358550</td>\n",
       "      <td>32.232597</td>\n",
       "    </tr>\n",
       "    <tr>\n",
       "      <th>1</th>\n",
       "      <td>38.367363</td>\n",
       "      <td>76.019629</td>\n",
       "      <td>61.365497</td>\n",
       "    </tr>\n",
       "    <tr>\n",
       "      <th>2</th>\n",
       "      <td>49.363988</td>\n",
       "      <td>31.368729</td>\n",
       "      <td>60.259047</td>\n",
       "    </tr>\n",
       "    <tr>\n",
       "      <th>3</th>\n",
       "      <td>61.961714</td>\n",
       "      <td>45.475715</td>\n",
       "      <td>56.874925</td>\n",
       "    </tr>\n",
       "    <tr>\n",
       "      <th>4</th>\n",
       "      <td>38.739590</td>\n",
       "      <td>90.219779</td>\n",
       "      <td>74.783921</td>\n",
       "    </tr>\n",
       "  </tbody>\n",
       "</table>\n",
       "</div>"
      ],
      "text/plain": [
       "      StoreA     StoreB     StoreC\n",
       "0  73.571950  78.358550  32.232597\n",
       "1  38.367363  76.019629  61.365497\n",
       "2  49.363988  31.368729  60.259047\n",
       "3  61.961714  45.475715  56.874925\n",
       "4  38.739590  90.219779  74.783921"
      ]
     },
     "execution_count": 38,
     "metadata": {},
     "output_type": "execute_result"
    }
   ],
   "source": [
    "df = pd.DataFrame({'StoreA': A, 'StoreB': B, 'StoreC': C})\n",
    "df.head()"
   ]
  },
  {
   "cell_type": "code",
   "execution_count": 39,
   "metadata": {},
   "outputs": [
    {
     "name": "stdout",
     "output_type": "stream",
     "text": [
      "Mean of Store A  58.35\n",
      "Mean of Store B  55.75\n",
      "Mean of Store C  56.77\n"
     ]
    }
   ],
   "source": [
    "print('Mean of Store A ', A.mean().round(2))\n",
    "print('Mean of Store B ', B.mean().round(2))\n",
    "print('Mean of Store C ', C.mean().round(2))"
   ]
  },
  {
   "cell_type": "code",
   "execution_count": 40,
   "metadata": {},
   "outputs": [],
   "source": [
    "from scipy.stats import f_oneway"
   ]
  },
  {
   "cell_type": "code",
   "execution_count": 41,
   "metadata": {},
   "outputs": [
    {
     "data": {
      "text/plain": [
       "0.32132109475363463"
      ]
     },
     "execution_count": 41,
     "metadata": {},
     "output_type": "execute_result"
    }
   ],
   "source": [
    "fstat, pval = f_oneway(A, B, C)\n",
    "pval"
   ]
  },
  {
   "cell_type": "code",
   "execution_count": 42,
   "metadata": {},
   "outputs": [],
   "source": [
    "alpha =0.05"
   ]
  },
  {
   "cell_type": "code",
   "execution_count": 43,
   "metadata": {},
   "outputs": [],
   "source": [
    "URLC_NEW = \"https://raw.githubusercontent.com/edbullen/Hypothesis/master/storeC_NEW.csv\"\n",
    "C_NEW = urlreq.urlopen(URLC_NEW).read().decode()\n",
    "C_NEW = np.asarray(C_NEW.split()).astype(float)"
   ]
  },
  {
   "cell_type": "code",
   "execution_count": 45,
   "metadata": {},
   "outputs": [
    {
     "data": {
      "text/plain": [
       "0.018592989397402296"
      ]
     },
     "execution_count": 45,
     "metadata": {},
     "output_type": "execute_result"
    }
   ],
   "source": [
    "fstat, pval = f_oneway(A, B, C_NEW)\n",
    "pval"
   ]
  },
  {
   "cell_type": "code",
   "execution_count": 46,
   "metadata": {},
   "outputs": [
    {
     "data": {
      "text/plain": [
       "60.82"
      ]
     },
     "execution_count": 46,
     "metadata": {},
     "output_type": "execute_result"
    }
   ],
   "source": [
    "C_NEW.mean().round(2)"
   ]
  },
  {
   "cell_type": "markdown",
   "metadata": {},
   "source": [
    "### 7. CHI-SQUARE "
   ]
  },
  {
   "cell_type": "code",
   "execution_count": 49,
   "metadata": {},
   "outputs": [
    {
     "data": {
      "text/html": [
       "<div>\n",
       "<style scoped>\n",
       "    .dataframe tbody tr th:only-of-type {\n",
       "        vertical-align: middle;\n",
       "    }\n",
       "\n",
       "    .dataframe tbody tr th {\n",
       "        vertical-align: top;\n",
       "    }\n",
       "\n",
       "    .dataframe thead th {\n",
       "        text-align: right;\n",
       "    }\n",
       "</style>\n",
       "<table border=\"1\" class=\"dataframe\">\n",
       "  <thead>\n",
       "    <tr style=\"text-align: right;\">\n",
       "      <th></th>\n",
       "      <th>Gender</th>\n",
       "      <th>isSmoker</th>\n",
       "    </tr>\n",
       "  </thead>\n",
       "  <tbody>\n",
       "    <tr>\n",
       "      <th>0</th>\n",
       "      <td>M</td>\n",
       "      <td>Smoker</td>\n",
       "    </tr>\n",
       "    <tr>\n",
       "      <th>1</th>\n",
       "      <td>M</td>\n",
       "      <td>Smoker</td>\n",
       "    </tr>\n",
       "    <tr>\n",
       "      <th>2</th>\n",
       "      <td>M</td>\n",
       "      <td>Non-Smpoker</td>\n",
       "    </tr>\n",
       "    <tr>\n",
       "      <th>3</th>\n",
       "      <td>F</td>\n",
       "      <td>Non-Smpoker</td>\n",
       "    </tr>\n",
       "    <tr>\n",
       "      <th>4</th>\n",
       "      <td>F</td>\n",
       "      <td>Smoker</td>\n",
       "    </tr>\n",
       "  </tbody>\n",
       "</table>\n",
       "</div>"
      ],
      "text/plain": [
       "  Gender     isSmoker\n",
       "0      M       Smoker\n",
       "1      M       Smoker\n",
       "2      M  Non-Smpoker\n",
       "3      F  Non-Smpoker\n",
       "4      F       Smoker"
      ]
     },
     "execution_count": 49,
     "metadata": {},
     "output_type": "execute_result"
    }
   ],
   "source": [
    "df = pd.DataFrame({'Gender' : ['M', 'M', 'M', 'F', 'F'] * 10,\n",
    "                   'isSmoker' : ['Smoker', 'Smoker', 'Non-Smpoker', 'Non-Smpoker', 'Smoker'] * 10\n",
    "                  })\n",
    "df.head()"
   ]
  },
  {
   "cell_type": "markdown",
   "metadata": {},
   "source": [
    "Assume that we want to test if there is a statistically significant difference in Genders (M, F) population between Smokers and Non-Smokers."
   ]
  },
  {
   "cell_type": "code",
   "execution_count": 51,
   "metadata": {},
   "outputs": [
    {
     "data": {
      "text/html": [
       "<div>\n",
       "<style scoped>\n",
       "    .dataframe tbody tr th:only-of-type {\n",
       "        vertical-align: middle;\n",
       "    }\n",
       "\n",
       "    .dataframe tbody tr th {\n",
       "        vertical-align: top;\n",
       "    }\n",
       "\n",
       "    .dataframe thead th {\n",
       "        text-align: right;\n",
       "    }\n",
       "</style>\n",
       "<table border=\"1\" class=\"dataframe\">\n",
       "  <thead>\n",
       "    <tr style=\"text-align: right;\">\n",
       "      <th>isSmoker</th>\n",
       "      <th>Non-Smpoker</th>\n",
       "      <th>Smoker</th>\n",
       "    </tr>\n",
       "    <tr>\n",
       "      <th>Gender</th>\n",
       "      <th></th>\n",
       "      <th></th>\n",
       "    </tr>\n",
       "  </thead>\n",
       "  <tbody>\n",
       "    <tr>\n",
       "      <th>F</th>\n",
       "      <td>10</td>\n",
       "      <td>10</td>\n",
       "    </tr>\n",
       "    <tr>\n",
       "      <th>M</th>\n",
       "      <td>10</td>\n",
       "      <td>20</td>\n",
       "    </tr>\n",
       "  </tbody>\n",
       "</table>\n",
       "</div>"
      ],
      "text/plain": [
       "isSmoker  Non-Smpoker  Smoker\n",
       "Gender                       \n",
       "F                  10      10\n",
       "M                  10      20"
      ]
     },
     "execution_count": 51,
     "metadata": {},
     "output_type": "execute_result"
    }
   ],
   "source": [
    "contingency = pd.crosstab(df['Gender'], df['isSmoker'])\n",
    "contingency"
   ]
  },
  {
   "cell_type": "code",
   "execution_count": 52,
   "metadata": {},
   "outputs": [
    {
     "data": {
      "text/html": [
       "<div>\n",
       "<style scoped>\n",
       "    .dataframe tbody tr th:only-of-type {\n",
       "        vertical-align: middle;\n",
       "    }\n",
       "\n",
       "    .dataframe tbody tr th {\n",
       "        vertical-align: top;\n",
       "    }\n",
       "\n",
       "    .dataframe thead th {\n",
       "        text-align: right;\n",
       "    }\n",
       "</style>\n",
       "<table border=\"1\" class=\"dataframe\">\n",
       "  <thead>\n",
       "    <tr style=\"text-align: right;\">\n",
       "      <th>isSmoker</th>\n",
       "      <th>Non-Smpoker</th>\n",
       "      <th>Smoker</th>\n",
       "    </tr>\n",
       "    <tr>\n",
       "      <th>Gender</th>\n",
       "      <th></th>\n",
       "      <th></th>\n",
       "    </tr>\n",
       "  </thead>\n",
       "  <tbody>\n",
       "    <tr>\n",
       "      <th>F</th>\n",
       "      <td>0.500000</td>\n",
       "      <td>0.500000</td>\n",
       "    </tr>\n",
       "    <tr>\n",
       "      <th>M</th>\n",
       "      <td>0.333333</td>\n",
       "      <td>0.666667</td>\n",
       "    </tr>\n",
       "  </tbody>\n",
       "</table>\n",
       "</div>"
      ],
      "text/plain": [
       "isSmoker  Non-Smpoker    Smoker\n",
       "Gender                         \n",
       "F            0.500000  0.500000\n",
       "M            0.333333  0.666667"
      ]
     },
     "execution_count": 52,
     "metadata": {},
     "output_type": "execute_result"
    }
   ],
   "source": [
    "contingency = pd.crosstab(df['Gender'], df['isSmoker'], normalize='index')\n",
    "contingency"
   ]
  },
  {
   "cell_type": "code",
   "execution_count": 54,
   "metadata": {},
   "outputs": [
    {
     "name": "stdout",
     "output_type": "stream",
     "text": [
      "1.4285714285714286 0.23199772362873072 1 [[0.41666667 0.58333333]\n",
      " [0.41666667 0.58333333]]\n"
     ]
    }
   ],
   "source": [
    "from scipy.stats import chi2_contingency\n",
    "chi2, p, dof, expected = chi2_contingency(contingency)\n",
    "print(chi2, p, dof, expected)"
   ]
  },
  {
   "cell_type": "code",
   "execution_count": 55,
   "metadata": {},
   "outputs": [
    {
     "data": {
      "text/plain": [
       "True"
      ]
     },
     "execution_count": 55,
     "metadata": {},
     "output_type": "execute_result"
    }
   ],
   "source": [
    "p > alpha"
   ]
  },
  {
   "cell_type": "markdown",
   "metadata": {},
   "source": [
    "### 8. Creative Lab"
   ]
  },
  {
   "cell_type": "code",
   "execution_count": 56,
   "metadata": {},
   "outputs": [],
   "source": [
    "URL1 = \"https://raw.githubusercontent.com/edbullen/Hypothesis/master/week1.csv\"\n",
    "URL2 = \"https://raw.githubusercontent.com/edbullen/Hypothesis/master/week2.csv\""
   ]
  },
  {
   "cell_type": "markdown",
   "metadata": {},
   "source": [
    "##### Test if the independent dataset are approximately normally distributed"
   ]
  },
  {
   "cell_type": "markdown",
   "metadata": {},
   "source": [
    "###### 8.1 Find individual means, standard deviations"
   ]
  },
  {
   "cell_type": "markdown",
   "metadata": {},
   "source": [
    "###### 8.2 What test should be applied here?"
   ]
  },
  {
   "cell_type": "code",
   "execution_count": null,
   "metadata": {},
   "outputs": [],
   "source": []
  }
 ],
 "metadata": {
  "kernelspec": {
   "display_name": "Python 3",
   "language": "python",
   "name": "python3"
  },
  "language_info": {
   "codemirror_mode": {
    "name": "ipython",
    "version": 3
   },
   "file_extension": ".py",
   "mimetype": "text/x-python",
   "name": "python",
   "nbconvert_exporter": "python",
   "pygments_lexer": "ipython3",
   "version": "3.7.3"
  }
 },
 "nbformat": 4,
 "nbformat_minor": 2
}
