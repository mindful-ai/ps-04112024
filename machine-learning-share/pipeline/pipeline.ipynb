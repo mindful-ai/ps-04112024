{
 "cells": [
  {
   "cell_type": "markdown",
   "metadata": {
    "vscode": {
     "languageId": "plaintext"
    }
   },
   "source": [
    "### Pipeline"
   ]
  },
  {
   "cell_type": "markdown",
   "metadata": {
    "vscode": {
     "languageId": "plaintext"
    }
   },
   "source": [
    "Using scikit-learn's Pipeline with a built-in dataset, demonstrating how to chain together multiple functions for a machine learning workflow. This example uses the Iris dataset and applies preprocessing, feature selection, and a classifier. The pipeline will include at least five functions."
   ]
  },
  {
   "cell_type": "code",
   "execution_count": 2,
   "metadata": {},
   "outputs": [],
   "source": [
    "import numpy as np\n",
    "import pandas as pd\n",
    "from sklearn.datasets import load_iris\n",
    "from sklearn.model_selection import train_test_split\n",
    "from sklearn.preprocessing import StandardScaler, OneHotEncoder\n",
    "from sklearn.impute import SimpleImputer\n",
    "from sklearn.decomposition import PCA\n",
    "from sklearn.ensemble import RandomForestClassifier\n",
    "from sklearn.pipeline import Pipeline\n",
    "from sklearn.compose import ColumnTransformer\n",
    "from sklearn.model_selection import cross_val_score"
   ]
  },
  {
   "cell_type": "code",
   "execution_count": 3,
   "metadata": {},
   "outputs": [],
   "source": [
    "# Load Iris dataset\n",
    "iris = load_iris()\n",
    "X = pd.DataFrame(iris.data, columns=iris.feature_names)\n",
    "y = iris.target"
   ]
  },
  {
   "cell_type": "code",
   "execution_count": null,
   "metadata": {},
   "outputs": [],
   "source": [
    "# Split the dataset into train and test sets\n",
    "X_train, X_test, y_train, y_test = train_test_split(X, y, test_size=0.3, random_state=42)\n"
   ]
  },
  {
   "cell_type": "code",
   "execution_count": null,
   "metadata": {},
   "outputs": [],
   "source": [
    "# Define preprocessing for numeric columns and encoding categorical data\n",
    "# Here we assume the Iris dataset has numeric features, but this can be adapted for categorical data\n",
    "numeric_features = X.columns\n",
    "numeric_transformer = Pipeline(steps=[\n",
    "    ('imputer', SimpleImputer(strategy='mean')),  # Handle missing values\n",
    "    ('scaler', StandardScaler())                 # Standardize features\n",
    "])"
   ]
  },
  {
   "cell_type": "code",
   "execution_count": null,
   "metadata": {},
   "outputs": [],
   "source": [
    "# Define a full preprocessing pipeline with PCA and RandomForest\n",
    "# Applying PCA for dimensionality reduction\n",
    "full_pipeline = Pipeline(steps=[\n",
    "    ('preprocessor', numeric_transformer),\n",
    "    ('pca', PCA(n_components=2)),                  # Dimensionality reduction to 2 components\n",
    "    ('classifier', RandomForestClassifier(n_estimators=100, random_state=42))  # Classifier\n",
    "])"
   ]
  },
  {
   "cell_type": "code",
   "execution_count": null,
   "metadata": {},
   "outputs": [],
   "source": [
    "# Cross-validation to evaluate the pipeline\n",
    "cv_scores = cross_val_score(full_pipeline, X_train, y_train, cv=5)\n",
    "\n",
    "# Print cross-validation scores\n",
    "print(f'Cross-validation scores: {cv_scores}')\n",
    "print(f'Mean cross-validation score: {np.mean(cv_scores)}')\n",
    "\n",
    "# Fit the pipeline on the training data\n",
    "full_pipeline.fit(X_train, y_train)\n",
    "\n",
    "# Evaluate the pipeline on the test set\n",
    "test_score = full_pipeline.score(X_test, y_test)\n",
    "print(f'Test set score: {test_score}')"
   ]
  },
  {
   "cell_type": "markdown",
   "metadata": {},
   "source": [
    "Breakdown of the Pipeline:\n",
    "\n",
    "Imputation (SimpleImputer):\n",
    "This step is used to fill missing values with the mean value for each feature. This is useful if you have missing data in your dataset.\n",
    "\n",
    "Standardization (StandardScaler):\n",
    "The features are standardized to have a mean of 0 and a standard deviation of 1. This is important for algorithms like PCA and many machine learning algorithms.\n",
    "\n",
    "Dimensionality Reduction (PCA):\n",
    "Principal Component Analysis (PCA) is used to reduce the number of features from 4 to 2 for easier visualization and improved performance with less computational cost.\n",
    "\n",
    "Classification (RandomForestClassifier):\n",
    "A random forest classifier is used to train and predict the target variable, based on the features processed in the previous steps.\n",
    "\n",
    "Cross-validation (cross_val_score):\n",
    "This function is used to evaluate the model on different subsets of the data to ensure it generalizes well across different data splits."
   ]
  },
  {
   "cell_type": "code",
   "execution_count": null,
   "metadata": {},
   "outputs": [],
   "source": []
  },
  {
   "cell_type": "code",
   "execution_count": null,
   "metadata": {},
   "outputs": [],
   "source": []
  }
 ],
 "metadata": {
  "kernelspec": {
   "display_name": "base",
   "language": "python",
   "name": "python3"
  },
  "language_info": {
   "codemirror_mode": {
    "name": "ipython",
    "version": 3
   },
   "file_extension": ".py",
   "mimetype": "text/x-python",
   "name": "python",
   "nbconvert_exporter": "python",
   "pygments_lexer": "ipython3",
   "version": "3.12.7"
  }
 },
 "nbformat": 4,
 "nbformat_minor": 2
}
