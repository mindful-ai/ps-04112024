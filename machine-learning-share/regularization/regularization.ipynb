{
 "cells": [
  {
   "cell_type": "markdown",
   "metadata": {},
   "source": [
    "### Lasso Regression"
   ]
  },
  {
   "cell_type": "code",
   "execution_count": null,
   "metadata": {},
   "outputs": [],
   "source": [
    "import numpy as np\n",
    "import matplotlib.pyplot as plt\n",
    "from sklearn.linear_model import Lasso\n",
    "from sklearn.model_selection import train_test_split\n",
    "from sklearn.metrics import mean_squared_error\n",
    "\n",
    "# Generating synthetic data\n",
    "np.random.seed(0)\n",
    "X = np.random.rand(100, 5)  # 100 samples, 5 features\n",
    "y = 3 * X[:, 0] + 1.5 * X[:, 1] + np.random.randn(100) * 0.1  # Target variable, influenced by X[:, 0] and X[:, 1]\n",
    "\n",
    "# Split data into training and testing sets\n",
    "X_train, X_test, y_train, y_test = train_test_split(X, y, test_size=0.2, random_state=0)\n",
    "\n",
    "# Applying Lasso Regression\n",
    "lasso = Lasso(alpha=0.1)  # alpha is the regularization strength; higher alpha means stronger penalty\n",
    "lasso.fit(X_train, y_train)\n",
    "y_pred = lasso.predict(X_test)\n",
    "\n",
    "# Model evaluation\n",
    "print(\"Lasso Regression Mean Squared Error:\", mean_squared_error(y_test, y_pred))\n",
    "print(\"Lasso Coefficients:\", lasso.coef_)\n",
    "\n",
    "# Plotting actual vs predicted values\n",
    "plt.scatter(y_test, y_pred, color=\"blue\")\n",
    "plt.xlabel(\"Actual values\")\n",
    "plt.ylabel(\"Predicted values\")\n",
    "plt.title(\"Lasso Regression: Actual vs Predicted\")\n",
    "plt.show()\n"
   ]
  },
  {
   "cell_type": "markdown",
   "metadata": {},
   "source": [
    "#### Assignment: Try with normal regression and see the results"
   ]
  },
  {
   "cell_type": "code",
   "execution_count": null,
   "metadata": {},
   "outputs": [],
   "source": []
  },
  {
   "cell_type": "markdown",
   "metadata": {},
   "source": [
    "### Ridge Regression"
   ]
  },
  {
   "cell_type": "code",
   "execution_count": null,
   "metadata": {},
   "outputs": [],
   "source": [
    "from sklearn.linear_model import Ridge\n",
    "\n",
    "# Applying Ridge Regression\n",
    "ridge = Ridge(alpha=0.1)  # alpha is the regularization strength; higher alpha means stronger penalty\n",
    "ridge.fit(X_train, y_train)\n",
    "y_pred_ridge = ridge.predict(X_test)\n",
    "\n",
    "# Model evaluation\n",
    "print(\"Ridge Regression Mean Squared Error:\", mean_squared_error(y_test, y_pred_ridge))\n",
    "print(\"Ridge Coefficients:\", ridge.coef_)\n",
    "\n",
    "# Plotting actual vs predicted values\n",
    "plt.scatter(y_test, y_pred_ridge, color=\"green\")\n",
    "plt.xlabel(\"Actual values\")\n",
    "plt.ylabel(\"Predicted values\")\n",
    "plt.title(\"Ridge Regression: Actual vs Predicted\")\n",
    "plt.show()\n"
   ]
  },
  {
   "cell_type": "code",
   "execution_count": null,
   "metadata": {},
   "outputs": [],
   "source": []
  }
 ],
 "metadata": {
  "kernelspec": {
   "display_name": "base",
   "language": "python",
   "name": "python3"
  },
  "language_info": {
   "codemirror_mode": {
    "name": "ipython",
    "version": 3
   },
   "file_extension": ".py",
   "mimetype": "text/x-python",
   "name": "python",
   "nbconvert_exporter": "python",
   "pygments_lexer": "ipython3",
   "version": "3.12.7"
  }
 },
 "nbformat": 4,
 "nbformat_minor": 2
}
