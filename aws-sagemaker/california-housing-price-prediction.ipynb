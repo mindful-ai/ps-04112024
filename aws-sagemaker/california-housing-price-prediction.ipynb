{
 "cells": [
  {
   "cell_type": "code",
   "execution_count": null,
   "id": "30b14560",
   "metadata": {},
   "outputs": [],
   "source": [
    "#!pip install boto3"
   ]
  },
  {
   "cell_type": "code",
   "execution_count": null,
   "id": "f4802852",
   "metadata": {},
   "outputs": [],
   "source": [
    "#!pip install sagemaker"
   ]
  },
  {
   "cell_type": "code",
   "execution_count": null,
   "id": "8b01b5d3",
   "metadata": {},
   "outputs": [],
   "source": [
    "\n",
    "import boto3\n",
    "import sagemaker\n",
    "from sagemaker.sklearn.estimator import SKLearn\n",
    "from sklearn.datasets import fetch_california_housing\n",
    "from sklearn.model_selection import train_test_split\n",
    "import pandas as pd\n",
    "import numpy as np\n",
    "import os"
   ]
  },
  {
   "cell_type": "code",
   "execution_count": null,
   "id": "0a873064",
   "metadata": {},
   "outputs": [],
   "source": [
    "# Initialize SageMaker session and role\n",
    "sagemaker_session = sagemaker.Session()\n",
    "#role = sagemaker.get_execution_role()\n",
    "role = r\"arn:aws:iam::069641793383:role/service-role/AmazonSageMaker-ExecutionRole-20241128T231146\"\n",
    "bucket = sagemaker_session.default_bucket()\n",
    "prefix = \"sagemaker/california-housing\""
   ]
  },
  {
   "cell_type": "code",
   "execution_count": null,
   "id": "4317f8e4",
   "metadata": {},
   "outputs": [],
   "source": [
    "# Load California Housing dataset\n",
    "california_data = fetch_california_housing(as_frame=True)\n",
    "X = california_data.data\n",
    "y = california_data.target"
   ]
  },
  {
   "cell_type": "code",
   "execution_count": null,
   "id": "75e512f2",
   "metadata": {},
   "outputs": [],
   "source": [
    "# Split the dataset\n",
    "X_train, X_test, y_train, y_test = train_test_split(X, y, test_size=0.2, random_state=42)\n"
   ]
  },
  {
   "cell_type": "code",
   "execution_count": null,
   "id": "4355800f",
   "metadata": {},
   "outputs": [],
   "source": [
    "# Save training and test data as CSV\n",
    "train_data = pd.concat([X_train, y_train], axis=1)\n",
    "test_data = pd.concat([X_test, y_test], axis=1)"
   ]
  },
  {
   "cell_type": "code",
   "execution_count": null,
   "id": "a3ace726",
   "metadata": {},
   "outputs": [],
   "source": [
    "train_data_path = \"train.csv\"\n",
    "test_data_path = \"test.csv\"\n",
    "train_data.to_csv(train_data_path, index=False)\n",
    "test_data.to_csv(test_data_path, index=False)"
   ]
  },
  {
   "cell_type": "code",
   "execution_count": null,
   "id": "3a1c8052",
   "metadata": {},
   "outputs": [],
   "source": [
    "# Upload data to S3\n",
    "train_data_s3_path = sagemaker_session.upload_data(train_data_path, bucket=bucket, key_prefix=prefix)\n",
    "test_data_s3_path = sagemaker_session.upload_data(test_data_path, bucket=bucket, key_prefix=prefix)"
   ]
  },
  {
   "cell_type": "code",
   "execution_count": null,
   "id": "ec9377e3",
   "metadata": {},
   "outputs": [],
   "source": [
    "print(f\"Training data uploaded to: {train_data_s3_path}\")\n",
    "print(f\"Test data uploaded to: {test_data_s3_path}\")"
   ]
  },
  {
   "cell_type": "code",
   "execution_count": null,
   "id": "e01cc565",
   "metadata": {},
   "outputs": [],
   "source": [
    "# Create SKLearn Estimator\n",
    "script_path = \"training-script.py\" "
   ]
  },
  {
   "cell_type": "code",
   "execution_count": null,
   "id": "956945b5",
   "metadata": {},
   "outputs": [],
   "source": [
    "output_path = f\"s3://sagemaker-ap-south-1-069641793383/sagemaker/output\"\n",
    "sklearn_estimator = SKLearn(\n",
    "    entry_point=script_path,\n",
    "    role=role,\n",
    "    instance_count=1,\n",
    "    instance_type=\"ml.m5.large\",\n",
    "    framework_version=\"1.2-1\",\n",
    "    sagemaker_session=sagemaker_session,\n",
    "    output_path=output_path,\n",
    "    hyperparameters={\"max_depth\": 10},\n",
    ")"
   ]
  },
  {
   "cell_type": "code",
   "execution_count": null,
   "id": "1625c753",
   "metadata": {},
   "outputs": [],
   "source": [
    "# Start training\n",
    "sklearn_estimator.fit({\"train\": train_data_s3_path})"
   ]
  },
  {
   "cell_type": "code",
   "execution_count": null,
   "id": "49b97f27",
   "metadata": {},
   "outputs": [],
   "source": [
    "# Deploy model as endpoint\n",
    "predictor = sklearn_estimator.deploy(\n",
    "    initial_instance_count=1,\n",
    "    instance_type=\"ml.m5.large\",\n",
    "    endpoint_name=\"california-housing-endpoint-2\"\n",
    ")"
   ]
  },
  {
   "cell_type": "code",
   "execution_count": null,
   "id": "8e71675c",
   "metadata": {},
   "outputs": [],
   "source": [
    "# Test predictions\n",
    "test_sample = X_test.iloc[0:1]\n",
    "response = predictor.predict(test_sample.to_numpy())\n",
    "print(f\"Prediction: {response}\")"
   ]
  },
  {
   "cell_type": "code",
   "execution_count": null,
   "id": "9cd2a516",
   "metadata": {},
   "outputs": [],
   "source": []
  },
  {
   "cell_type": "code",
   "execution_count": null,
   "id": "f577ab04",
   "metadata": {},
   "outputs": [],
   "source": [
    "import boto3\n",
    "\n",
    "sagemaker_client = boto3.client(\"sagemaker\")\n",
    "\n",
    "# Delete the existing endpoint configuration\n",
    "sagemaker_client.delete_endpoint_config(EndpointConfigName=\"california-housing-endpoint\")\n"
   ]
  },
  {
   "cell_type": "code",
   "execution_count": null,
   "id": "9496d174",
   "metadata": {},
   "outputs": [],
   "source": []
  },
  {
   "cell_type": "code",
   "execution_count": null,
   "id": "76b01a90",
   "metadata": {},
   "outputs": [],
   "source": []
  },
  {
   "cell_type": "code",
   "execution_count": null,
   "id": "04c3cba8",
   "metadata": {},
   "outputs": [],
   "source": []
  },
  {
   "cell_type": "code",
   "execution_count": null,
   "id": "96019e62",
   "metadata": {},
   "outputs": [],
   "source": []
  },
  {
   "cell_type": "code",
   "execution_count": null,
   "id": "97f0263d",
   "metadata": {},
   "outputs": [],
   "source": []
  },
  {
   "cell_type": "code",
   "execution_count": null,
   "id": "7fb36445",
   "metadata": {},
   "outputs": [],
   "source": []
  },
  {
   "cell_type": "code",
   "execution_count": null,
   "id": "7745b017",
   "metadata": {},
   "outputs": [],
   "source": []
  }
 ],
 "metadata": {
  "kernelspec": {
   "display_name": "base",
   "language": "python",
   "name": "python3"
  },
  "language_info": {
   "codemirror_mode": {
    "name": "ipython",
    "version": 3
   },
   "file_extension": ".py",
   "mimetype": "text/x-python",
   "name": "python",
   "nbconvert_exporter": "python",
   "pygments_lexer": "ipython3",
   "version": "3.12.7"
  }
 },
 "nbformat": 4,
 "nbformat_minor": 5
}
