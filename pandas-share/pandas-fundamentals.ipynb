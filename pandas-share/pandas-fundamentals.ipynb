{
 "cells": [
  {
   "cell_type": "markdown",
   "id": "9ff692e2-ce1b-4551-b562-d6d4f7d1d6a2",
   "metadata": {},
   "source": [
    "# Pandas Library"
   ]
  },
  {
   "cell_type": "markdown",
   "id": "07aa147f-2a64-42cb-a5e2-7100b2cc5dde",
   "metadata": {},
   "source": [
    "### 1. Basics"
   ]
  },
  {
   "cell_type": "code",
   "execution_count": null,
   "id": "9f9c5abf-cb8d-481e-8f26-26599d1a5b80",
   "metadata": {},
   "outputs": [],
   "source": [
    "import pandas as pd"
   ]
  },
  {
   "cell_type": "code",
   "execution_count": null,
   "id": "05baae20-dbe9-4e4f-8341-d333eed727b1",
   "metadata": {},
   "outputs": [],
   "source": [
    "path = r\"students.csv\""
   ]
  },
  {
   "cell_type": "code",
   "execution_count": null,
   "id": "e1234e04-2c9d-453a-8bca-fa9dd571190b",
   "metadata": {},
   "outputs": [],
   "source": [
    "df = pd.read_csv(path)"
   ]
  },
  {
   "cell_type": "code",
   "execution_count": null,
   "id": "c6ee307a-4019-451d-a453-f67e16393c17",
   "metadata": {},
   "outputs": [],
   "source": [
    "df"
   ]
  },
  {
   "cell_type": "markdown",
   "id": "e8ccaa45-f993-49a5-8e9b-f5a006916bfb",
   "metadata": {},
   "source": [
    "##### Working with Columns"
   ]
  },
  {
   "cell_type": "code",
   "execution_count": null,
   "id": "58c25945-a416-46f2-a29a-9cd4559a6f42",
   "metadata": {},
   "outputs": [],
   "source": [
    "df.columns"
   ]
  },
  {
   "cell_type": "code",
   "execution_count": null,
   "id": "59552edf-8a51-426c-aca4-4be21f8a1ac9",
   "metadata": {},
   "outputs": [],
   "source": [
    "df.shape"
   ]
  },
  {
   "cell_type": "code",
   "execution_count": null,
   "id": "25a7b8c8-a97f-42b0-a14e-909ad9ab4fa8",
   "metadata": {},
   "outputs": [],
   "source": [
    "df.head()"
   ]
  },
  {
   "cell_type": "code",
   "execution_count": null,
   "id": "39e98dc3-bb91-4c88-848b-cd063b610f91",
   "metadata": {},
   "outputs": [],
   "source": [
    "df.tail()"
   ]
  },
  {
   "cell_type": "code",
   "execution_count": null,
   "id": "948d6503-50f3-42b5-bcfc-16f75e475426",
   "metadata": {},
   "outputs": [],
   "source": [
    "df.describe()"
   ]
  },
  {
   "cell_type": "code",
   "execution_count": null,
   "id": "1e25b7f3-26da-4a73-baa0-5714d8783d8c",
   "metadata": {},
   "outputs": [],
   "source": [
    "df.info()"
   ]
  },
  {
   "cell_type": "code",
   "execution_count": null,
   "id": "97128bba-f2c5-4d67-bc10-4d7fef833f35",
   "metadata": {},
   "outputs": [],
   "source": [
    "df['name']"
   ]
  },
  {
   "cell_type": "code",
   "execution_count": null,
   "id": "336be902-53fd-4088-96ee-94a061546a02",
   "metadata": {},
   "outputs": [],
   "source": [
    "df1 = df[['avg', 'name']]\n",
    "df1"
   ]
  },
  {
   "cell_type": "code",
   "execution_count": null,
   "id": "bf45686e-4b14-4ae1-a0ce-61fc8243ba17",
   "metadata": {},
   "outputs": [],
   "source": [
    "df['total'] = df['phy'] + df['math'] + df['bio'] + df['chem']\n",
    "df.head()"
   ]
  },
  {
   "cell_type": "code",
   "execution_count": null,
   "id": "1d36c161-2864-4cc7-b5d8-2d64ed443afb",
   "metadata": {},
   "outputs": [],
   "source": [
    "df2 = df.drop('total', axis = 1)\n",
    "df"
   ]
  },
  {
   "cell_type": "code",
   "execution_count": null,
   "id": "53334b1a-6bef-409f-9706-72fdc97c8dc8",
   "metadata": {},
   "outputs": [],
   "source": [
    "df.drop('total', axis = 1, inplace = True)\n",
    "df"
   ]
  },
  {
   "cell_type": "markdown",
   "id": "dd270327-bdf2-4735-b377-fa591f14cae6",
   "metadata": {},
   "source": [
    "##### Working with Rows"
   ]
  },
  {
   "cell_type": "code",
   "execution_count": null,
   "id": "e9363718-4af8-42a0-8878-d90aadead072",
   "metadata": {},
   "outputs": [],
   "source": [
    "df.head()"
   ]
  },
  {
   "cell_type": "code",
   "execution_count": null,
   "id": "061d0277-8e9b-48e0-802e-eec3f229b21d",
   "metadata": {},
   "outputs": [],
   "source": [
    "df.loc[2]"
   ]
  },
  {
   "cell_type": "code",
   "execution_count": null,
   "id": "42177937-349b-4a64-9fdb-801736e30ea6",
   "metadata": {},
   "outputs": [],
   "source": [
    "df.loc[[4, 2, 1]]"
   ]
  },
  {
   "cell_type": "code",
   "execution_count": null,
   "id": "c6824491-191e-4f37-b5a5-88c16944ecae",
   "metadata": {},
   "outputs": [],
   "source": [
    "df3 = df.iloc[[3, 1, 3, 4, 7]]\n",
    "df3"
   ]
  },
  {
   "cell_type": "code",
   "execution_count": null,
   "id": "b5c800e8-e058-4171-b1d5-563c565006fa",
   "metadata": {},
   "outputs": [],
   "source": [
    "df[(df['phy'] < 95) & (df['math'] < 95)]"
   ]
  },
  {
   "cell_type": "markdown",
   "id": "39c1967c-e20b-40bc-9e45-d81a2891183b",
   "metadata": {},
   "source": [
    "### 2. Solving the Student Report Problem"
   ]
  },
  {
   "cell_type": "code",
   "execution_count": null,
   "id": "6c2d8ec8-4804-4187-82ac-0b34b0f0b217",
   "metadata": {},
   "outputs": [],
   "source": [
    "import pandas as pd\n",
    "df = pd.read_csv(r\"C:\\Users\\mindf\\Desktop\\step\\day_05\\case\\students.csv\")"
   ]
  },
  {
   "cell_type": "code",
   "execution_count": null,
   "id": "b4b53353-ec1e-486a-b939-5f6e205cf4fd",
   "metadata": {},
   "outputs": [],
   "source": [
    "df['avg'] = df[['phy', 'chem', 'math', 'bio']].mean(axis = 1)\n",
    "df.head()"
   ]
  },
  {
   "cell_type": "code",
   "execution_count": null,
   "id": "c6671a93-949c-4175-80da-c22c9367e06d",
   "metadata": {},
   "outputs": [],
   "source": [
    "df['rank'] = df['avg'].rank(ascending = False, method = 'dense')\n",
    "df"
   ]
  },
  {
   "cell_type": "code",
   "execution_count": null,
   "id": "cdeb0ec7-f892-4507-8433-18e18cc05ccf",
   "metadata": {},
   "outputs": [],
   "source": [
    "df.to_json('student_report.json')"
   ]
  },
  {
   "cell_type": "code",
   "execution_count": null,
   "id": "97a1f0be-7a8b-4ae7-befd-e207e47c48ee",
   "metadata": {},
   "outputs": [],
   "source": []
  }
 ],
 "metadata": {
  "kernelspec": {
   "display_name": "Python 3 (ipykernel)",
   "language": "python",
   "name": "python3"
  },
  "language_info": {
   "codemirror_mode": {
    "name": "ipython",
    "version": 3
   },
   "file_extension": ".py",
   "mimetype": "text/x-python",
   "name": "python",
   "nbconvert_exporter": "python",
   "pygments_lexer": "ipython3",
   "version": "3.11.7"
  }
 },
 "nbformat": 4,
 "nbformat_minor": 5
}
